{
 "cells": [
  {
   "cell_type": "code",
   "execution_count": 116,
   "metadata": {
    "collapsed": false
   },
   "outputs": [],
   "source": [
    "import pandas as pd\n",
    "import numpy as np\n",
    "import matplotlib as mpl\n",
    "import matplotlib.pyplot as plt\n",
    "from sklearn.preprocessing import PolynomialFeatures\n",
    "from sklearn.model_selection import cross_val_score\n",
    "from sklearn.model_selection import train_test_split\n",
    "from sklearn.linear_model import Ridge\n",
    "from sklearn.pipeline import make_pipeline\n",
    "\n",
    "%matplotlib inline"
   ]
  },
  {
   "cell_type": "code",
   "execution_count": 117,
   "metadata": {
    "collapsed": false
   },
   "outputs": [
    {
     "data": {
      "text/plain": [
       "(3000, 12)"
      ]
     },
     "execution_count": 117,
     "metadata": {},
     "output_type": "execute_result"
    }
   ],
   "source": [
    "df = pd.read_csv('Wage.csv')\n",
    "df.shape"
   ]
  },
  {
   "cell_type": "code",
   "execution_count": 118,
   "metadata": {
    "collapsed": false
   },
   "outputs": [
    {
     "data": {
      "text/html": [
       "<div style=\"max-height:1000px;max-width:1500px;overflow:auto;\">\n",
       "<table border=\"1\" class=\"dataframe\">\n",
       "  <thead>\n",
       "    <tr style=\"text-align: right;\">\n",
       "      <th></th>\n",
       "      <th>year</th>\n",
       "      <th>age</th>\n",
       "      <th>sex</th>\n",
       "      <th>maritl</th>\n",
       "      <th>race</th>\n",
       "      <th>education</th>\n",
       "      <th>region</th>\n",
       "      <th>jobclass</th>\n",
       "      <th>health</th>\n",
       "      <th>health_ins</th>\n",
       "      <th>logwage</th>\n",
       "      <th>wage</th>\n",
       "    </tr>\n",
       "  </thead>\n",
       "  <tbody>\n",
       "    <tr>\n",
       "      <th>231655</th>\n",
       "      <td> 2006</td>\n",
       "      <td> 18</td>\n",
       "      <td> 1. Male</td>\n",
       "      <td> 1. Never Married</td>\n",
       "      <td> 1. White</td>\n",
       "      <td>    1. &lt; HS Grad</td>\n",
       "      <td> 2. Middle Atlantic</td>\n",
       "      <td>  1. Industrial</td>\n",
       "      <td>      1. &lt;=Good</td>\n",
       "      <td>  2. No</td>\n",
       "      <td> 4.318063</td>\n",
       "      <td>  75.043154</td>\n",
       "    </tr>\n",
       "    <tr>\n",
       "      <th>86582 </th>\n",
       "      <td> 2004</td>\n",
       "      <td> 24</td>\n",
       "      <td> 1. Male</td>\n",
       "      <td> 1. Never Married</td>\n",
       "      <td> 1. White</td>\n",
       "      <td> 4. College Grad</td>\n",
       "      <td> 2. Middle Atlantic</td>\n",
       "      <td> 2. Information</td>\n",
       "      <td> 2. &gt;=Very Good</td>\n",
       "      <td>  2. No</td>\n",
       "      <td> 4.255273</td>\n",
       "      <td>  70.476020</td>\n",
       "    </tr>\n",
       "    <tr>\n",
       "      <th>161300</th>\n",
       "      <td> 2003</td>\n",
       "      <td> 45</td>\n",
       "      <td> 1. Male</td>\n",
       "      <td>       2. Married</td>\n",
       "      <td> 1. White</td>\n",
       "      <td> 3. Some College</td>\n",
       "      <td> 2. Middle Atlantic</td>\n",
       "      <td>  1. Industrial</td>\n",
       "      <td>      1. &lt;=Good</td>\n",
       "      <td> 1. Yes</td>\n",
       "      <td> 4.875061</td>\n",
       "      <td> 130.982177</td>\n",
       "    </tr>\n",
       "    <tr>\n",
       "      <th>155159</th>\n",
       "      <td> 2003</td>\n",
       "      <td> 43</td>\n",
       "      <td> 1. Male</td>\n",
       "      <td>       2. Married</td>\n",
       "      <td> 3. Asian</td>\n",
       "      <td> 4. College Grad</td>\n",
       "      <td> 2. Middle Atlantic</td>\n",
       "      <td> 2. Information</td>\n",
       "      <td> 2. &gt;=Very Good</td>\n",
       "      <td> 1. Yes</td>\n",
       "      <td> 5.041393</td>\n",
       "      <td> 154.685293</td>\n",
       "    </tr>\n",
       "    <tr>\n",
       "      <th>11443 </th>\n",
       "      <td> 2005</td>\n",
       "      <td> 50</td>\n",
       "      <td> 1. Male</td>\n",
       "      <td>      4. Divorced</td>\n",
       "      <td> 1. White</td>\n",
       "      <td>      2. HS Grad</td>\n",
       "      <td> 2. Middle Atlantic</td>\n",
       "      <td> 2. Information</td>\n",
       "      <td>      1. &lt;=Good</td>\n",
       "      <td> 1. Yes</td>\n",
       "      <td> 4.318063</td>\n",
       "      <td>  75.043154</td>\n",
       "    </tr>\n",
       "  </tbody>\n",
       "</table>\n",
       "</div>"
      ],
      "text/plain": [
       "        year  age      sex            maritl      race        education  \\\n",
       "231655  2006   18  1. Male  1. Never Married  1. White     1. < HS Grad   \n",
       "86582   2004   24  1. Male  1. Never Married  1. White  4. College Grad   \n",
       "161300  2003   45  1. Male        2. Married  1. White  3. Some College   \n",
       "155159  2003   43  1. Male        2. Married  3. Asian  4. College Grad   \n",
       "11443   2005   50  1. Male       4. Divorced  1. White       2. HS Grad   \n",
       "\n",
       "                    region        jobclass          health health_ins  \\\n",
       "231655  2. Middle Atlantic   1. Industrial       1. <=Good      2. No   \n",
       "86582   2. Middle Atlantic  2. Information  2. >=Very Good      2. No   \n",
       "161300  2. Middle Atlantic   1. Industrial       1. <=Good     1. Yes   \n",
       "155159  2. Middle Atlantic  2. Information  2. >=Very Good     1. Yes   \n",
       "11443   2. Middle Atlantic  2. Information       1. <=Good     1. Yes   \n",
       "\n",
       "         logwage        wage  \n",
       "231655  4.318063   75.043154  \n",
       "86582   4.255273   70.476020  \n",
       "161300  4.875061  130.982177  \n",
       "155159  5.041393  154.685293  \n",
       "11443   4.318063   75.043154  "
      ]
     },
     "execution_count": 118,
     "metadata": {},
     "output_type": "execute_result"
    }
   ],
   "source": [
    "df.head()"
   ]
  },
  {
   "cell_type": "code",
   "execution_count": 119,
   "metadata": {
    "collapsed": false
   },
   "outputs": [
    {
     "data": {
      "text/html": [
       "<div style=\"max-height:1000px;max-width:1500px;overflow:auto;\">\n",
       "<table border=\"1\" class=\"dataframe\">\n",
       "  <thead>\n",
       "    <tr style=\"text-align: right;\">\n",
       "      <th></th>\n",
       "      <th>year</th>\n",
       "      <th>age</th>\n",
       "      <th>sex</th>\n",
       "      <th>maritl</th>\n",
       "      <th>race</th>\n",
       "      <th>education</th>\n",
       "      <th>region</th>\n",
       "      <th>jobclass</th>\n",
       "      <th>health</th>\n",
       "      <th>health_ins</th>\n",
       "      <th>logwage</th>\n",
       "      <th>wage</th>\n",
       "    </tr>\n",
       "  </thead>\n",
       "  <tbody>\n",
       "    <tr>\n",
       "      <th>376816</th>\n",
       "      <td> 2008</td>\n",
       "      <td> 44</td>\n",
       "      <td> 1. Male</td>\n",
       "      <td>       2. Married</td>\n",
       "      <td> 1. White</td>\n",
       "      <td> 3. Some College</td>\n",
       "      <td> 2. Middle Atlantic</td>\n",
       "      <td> 1. Industrial</td>\n",
       "      <td> 2. &gt;=Very Good</td>\n",
       "      <td> 1. Yes</td>\n",
       "      <td> 5.041393</td>\n",
       "      <td> 154.685293</td>\n",
       "    </tr>\n",
       "    <tr>\n",
       "      <th>302281</th>\n",
       "      <td> 2007</td>\n",
       "      <td> 30</td>\n",
       "      <td> 1. Male</td>\n",
       "      <td>       2. Married</td>\n",
       "      <td> 1. White</td>\n",
       "      <td>      2. HS Grad</td>\n",
       "      <td> 2. Middle Atlantic</td>\n",
       "      <td> 1. Industrial</td>\n",
       "      <td> 2. &gt;=Very Good</td>\n",
       "      <td>  2. No</td>\n",
       "      <td> 4.602060</td>\n",
       "      <td>  99.689464</td>\n",
       "    </tr>\n",
       "    <tr>\n",
       "      <th>10033 </th>\n",
       "      <td> 2005</td>\n",
       "      <td> 27</td>\n",
       "      <td> 1. Male</td>\n",
       "      <td>       2. Married</td>\n",
       "      <td> 2. Black</td>\n",
       "      <td>    1. &lt; HS Grad</td>\n",
       "      <td> 2. Middle Atlantic</td>\n",
       "      <td> 1. Industrial</td>\n",
       "      <td>      1. &lt;=Good</td>\n",
       "      <td>  2. No</td>\n",
       "      <td> 4.193125</td>\n",
       "      <td>  66.229408</td>\n",
       "    </tr>\n",
       "    <tr>\n",
       "      <th>14375 </th>\n",
       "      <td> 2005</td>\n",
       "      <td> 27</td>\n",
       "      <td> 1. Male</td>\n",
       "      <td> 1. Never Married</td>\n",
       "      <td> 1. White</td>\n",
       "      <td> 3. Some College</td>\n",
       "      <td> 2. Middle Atlantic</td>\n",
       "      <td> 1. Industrial</td>\n",
       "      <td> 2. &gt;=Very Good</td>\n",
       "      <td> 1. Yes</td>\n",
       "      <td> 4.477121</td>\n",
       "      <td>  87.981033</td>\n",
       "    </tr>\n",
       "    <tr>\n",
       "      <th>453557</th>\n",
       "      <td> 2009</td>\n",
       "      <td> 55</td>\n",
       "      <td> 1. Male</td>\n",
       "      <td>     5. Separated</td>\n",
       "      <td> 1. White</td>\n",
       "      <td>      2. HS Grad</td>\n",
       "      <td> 2. Middle Atlantic</td>\n",
       "      <td> 1. Industrial</td>\n",
       "      <td>      1. &lt;=Good</td>\n",
       "      <td> 1. Yes</td>\n",
       "      <td> 4.505150</td>\n",
       "      <td>  90.481913</td>\n",
       "    </tr>\n",
       "  </tbody>\n",
       "</table>\n",
       "</div>"
      ],
      "text/plain": [
       "        year  age      sex            maritl      race        education  \\\n",
       "376816  2008   44  1. Male        2. Married  1. White  3. Some College   \n",
       "302281  2007   30  1. Male        2. Married  1. White       2. HS Grad   \n",
       "10033   2005   27  1. Male        2. Married  2. Black     1. < HS Grad   \n",
       "14375   2005   27  1. Male  1. Never Married  1. White  3. Some College   \n",
       "453557  2009   55  1. Male      5. Separated  1. White       2. HS Grad   \n",
       "\n",
       "                    region       jobclass          health health_ins  \\\n",
       "376816  2. Middle Atlantic  1. Industrial  2. >=Very Good     1. Yes   \n",
       "302281  2. Middle Atlantic  1. Industrial  2. >=Very Good      2. No   \n",
       "10033   2. Middle Atlantic  1. Industrial       1. <=Good      2. No   \n",
       "14375   2. Middle Atlantic  1. Industrial  2. >=Very Good     1. Yes   \n",
       "453557  2. Middle Atlantic  1. Industrial       1. <=Good     1. Yes   \n",
       "\n",
       "         logwage        wage  \n",
       "376816  5.041393  154.685293  \n",
       "302281  4.602060   99.689464  \n",
       "10033   4.193125   66.229408  \n",
       "14375   4.477121   87.981033  \n",
       "453557  4.505150   90.481913  "
      ]
     },
     "execution_count": 119,
     "metadata": {},
     "output_type": "execute_result"
    }
   ],
   "source": [
    "df.tail()"
   ]
  },
  {
   "cell_type": "markdown",
   "metadata": {},
   "source": [
    "#### Check # of unique categores for each categorical feature"
   ]
  },
  {
   "cell_type": "code",
   "execution_count": 120,
   "metadata": {
    "collapsed": false,
    "scrolled": true
   },
   "outputs": [
    {
     "name": "stdout",
     "output_type": "stream",
     "text": [
      "Feature 'jobclass' has 2 unique categories\n",
      "Feature 'education' has 5 unique categories\n",
      "Feature 'race' has 4 unique categories\n",
      "Feature 'maritl' has 5 unique categories\n"
     ]
    }
   ],
   "source": [
    "feature_col_categorical = [\"jobclass\",\"education\",\"race\",\"maritl\"]\n",
    "for col_name in feature_col_categorical:\n",
    "    cat_unique = len(df[col_name].unique())\n",
    "    print(\"Feature '{0}' has {1} unique categories\".format(col_name,cat_unique))"
   ]
  },
  {
   "cell_type": "markdown",
   "metadata": {},
   "source": [
    "#### Dummy variables"
   ]
  },
  {
   "cell_type": "code",
   "execution_count": 121,
   "metadata": {
    "collapsed": true
   },
   "outputs": [],
   "source": [
    "def dummy_df(df, dummy_list):\n",
    "    for dummy in dummy_list:\n",
    "        dummies = pd.get_dummies(X_df[dummy], prefix=dummy, dummy_na=False)\n",
    "        df = df.drop(dummy,1)\n",
    "        df = pd.concat([df, dummies], axis=1)\n",
    "    return df"
   ]
  },
  {
   "cell_type": "code",
   "execution_count": 122,
   "metadata": {
    "collapsed": false
   },
   "outputs": [],
   "source": [
    "feature_col_names = [\"year\"]\n",
    "target = [\"wage\"]\n",
    "X_df = df[feature_col_names]\n",
    "\n",
    "# X_df = dummy_df(X_df, feature_col_names)\n",
    "\n",
    "\n",
    "X = X_df.values\n",
    "y = df[target].values"
   ]
  },
  {
   "cell_type": "code",
   "execution_count": 123,
   "metadata": {
    "collapsed": false
   },
   "outputs": [
    {
     "data": {
      "text/html": [
       "<div style=\"max-height:1000px;max-width:1500px;overflow:auto;\">\n",
       "<table border=\"1\" class=\"dataframe\">\n",
       "  <thead>\n",
       "    <tr style=\"text-align: right;\">\n",
       "      <th></th>\n",
       "      <th>year</th>\n",
       "    </tr>\n",
       "  </thead>\n",
       "  <tbody>\n",
       "    <tr>\n",
       "      <th>231655</th>\n",
       "      <td> 2006</td>\n",
       "    </tr>\n",
       "    <tr>\n",
       "      <th>86582 </th>\n",
       "      <td> 2004</td>\n",
       "    </tr>\n",
       "    <tr>\n",
       "      <th>161300</th>\n",
       "      <td> 2003</td>\n",
       "    </tr>\n",
       "    <tr>\n",
       "      <th>155159</th>\n",
       "      <td> 2003</td>\n",
       "    </tr>\n",
       "    <tr>\n",
       "      <th>11443 </th>\n",
       "      <td> 2005</td>\n",
       "    </tr>\n",
       "  </tbody>\n",
       "</table>\n",
       "</div>"
      ],
      "text/plain": [
       "        year\n",
       "231655  2006\n",
       "86582   2004\n",
       "161300  2003\n",
       "155159  2003\n",
       "11443   2005"
      ]
     },
     "execution_count": 123,
     "metadata": {},
     "output_type": "execute_result"
    }
   ],
   "source": [
    "X_df.head()"
   ]
  },
  {
   "cell_type": "code",
   "execution_count": 124,
   "metadata": {
    "collapsed": true
   },
   "outputs": [],
   "source": [
    "split_test_size = 0.2\n",
    "X_train, X_test, y_train, y_test = train_test_split(X,y, test_size = split_test_size, random_state=42)"
   ]
  },
  {
   "cell_type": "code",
   "execution_count": 125,
   "metadata": {
    "collapsed": false
   },
   "outputs": [
    {
     "data": {
      "image/png": "[encoded data removed]",
      "text/plain": [
       "<matplotlib.figure.Figure at 0x7f0f59666d30>"
      ]
     },
     "metadata": {},
     "output_type": "display_data"
    }
   ],
   "source": [
    "colors = ['teal', 'yellowgreen', 'gold']\n",
    "lw = 2\n",
    "\n",
    "plt.plot(y_test, X_test, color='cornflowerblue', linewidth=lw,\n",
    "         label=\"ground truth\")\n",
    "plt.scatter(y_test, X_test, color='navy', s=30, marker='o', label=\"test points\")\n",
    "\n",
    "for count, degree in enumerate([3, 4, 5]):\n",
    "    model = make_pipeline(PolynomialFeatures(degree), Ridge())\n",
    "    model.fit(X_train, y_train)\n",
    "    y_plot = model.predict(X_test)\n",
    "    plt.plot(y_test, X_test, color=colors[count], linewidth=lw,\n",
    "             label=\"degree %d\" % degree)\n",
    "\n",
    "plt.legend(loc='lower left')\n",
    "\n",
    "plt.show()"
   ]
  },
  {
   "cell_type": "code",
   "execution_count": null,
   "metadata": {
    "collapsed": true
   },
   "outputs": [],
   "source": []
  }
 ],
 "metadata": {
  "kernelspec": {
   "display_name": "Python 3",
   "language": "python",
   "name": "python3"
  },
  "language_info": {
   "codemirror_mode": {
    "name": "ipython",
    "version": 3
   },
   "file_extension": ".py",
   "mimetype": "text/x-python",
   "name": "python",
   "nbconvert_exporter": "python",
   "pygments_lexer": "ipython3",
   "version": "3.4.2"
  }
 },
 "nbformat": 4,
 "nbformat_minor": 2
}
