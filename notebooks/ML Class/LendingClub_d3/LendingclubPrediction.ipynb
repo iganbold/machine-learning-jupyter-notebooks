{
 "cells": [
  {
   "cell_type": "markdown",
   "metadata": {},
   "source": [
    "## PART1: Dataset Exploration"
   ]
  },
  {
   "cell_type": "markdown",
   "metadata": {},
   "source": [
    "#### Import libraries"
   ]
  },
  {
   "cell_type": "code",
   "execution_count": 1,
   "metadata": {
    "collapsed": false
   },
   "outputs": [],
   "source": [
    "import pandas as pd\n",
    "import matplotlib.pyplot as plt\n",
    "import numpy as py\n",
    "\n",
    "%matplotlib inline"
   ]
  },
  {
   "cell_type": "code",
   "execution_count": 2,
   "metadata": {
    "collapsed": false
   },
   "outputs": [
    {
     "name": "stderr",
     "output_type": "stream",
     "text": [
      "/usr/lib/python3/dist-packages/pandas/io/parsers.py:1139: DtypeWarning: Columns (19,47) have mixed types. Specify dtype option on import or set low_memory=False.\n",
      "  data = self._reader.read(nrows)\n"
     ]
    }
   ],
   "source": [
    "df = pd.read_csv(\"lending-club-data.csv\")"
   ]
  },
  {
   "cell_type": "markdown",
   "metadata": {},
   "source": [
    "#### What is the number of observations? What is the number of attributes in the dataset?"
   ]
  },
  {
   "cell_type": "code",
   "execution_count": 3,
   "metadata": {
    "collapsed": false
   },
   "outputs": [
    {
     "data": {
      "text/plain": [
       "(122607, 68)"
      ]
     },
     "execution_count": 3,
     "metadata": {},
     "output_type": "execute_result"
    }
   ],
   "source": [
    "df.shape"
   ]
  },
  {
   "cell_type": "code",
   "execution_count": 4,
   "metadata": {
    "collapsed": false
   },
   "outputs": [
    {
     "data": {
      "text/html": [
       "<div style=\"max-height:1000px;max-width:1500px;overflow:auto;\">\n",
       "<table border=\"1\" class=\"dataframe\">\n",
       "  <thead>\n",
       "    <tr style=\"text-align: right;\">\n",
       "      <th></th>\n",
       "      <th>id</th>\n",
       "      <th>member_id</th>\n",
       "      <th>loan_amnt</th>\n",
       "      <th>funded_amnt</th>\n",
       "      <th>funded_amnt_inv</th>\n",
       "      <th>term</th>\n",
       "      <th>int_rate</th>\n",
       "      <th>installment</th>\n",
       "      <th>grade</th>\n",
       "      <th>sub_grade</th>\n",
       "      <th>...</th>\n",
       "      <th>sub_grade_num</th>\n",
       "      <th>delinq_2yrs_zero</th>\n",
       "      <th>pub_rec_zero</th>\n",
       "      <th>collections_12_mths_zero</th>\n",
       "      <th>short_emp</th>\n",
       "      <th>payment_inc_ratio</th>\n",
       "      <th>final_d</th>\n",
       "      <th>last_delinq_none</th>\n",
       "      <th>last_record_none</th>\n",
       "      <th>last_major_derog_none</th>\n",
       "    </tr>\n",
       "  </thead>\n",
       "  <tbody>\n",
       "    <tr>\n",
       "      <th>0</th>\n",
       "      <td> 1077501</td>\n",
       "      <td> 1296599</td>\n",
       "      <td>  5000</td>\n",
       "      <td>  5000</td>\n",
       "      <td>  4975</td>\n",
       "      <td>  36 months</td>\n",
       "      <td> 10.65</td>\n",
       "      <td> 162.87</td>\n",
       "      <td> B</td>\n",
       "      <td> B2</td>\n",
       "      <td>...</td>\n",
       "      <td> 0.4</td>\n",
       "      <td> 1</td>\n",
       "      <td> 1</td>\n",
       "      <td> 1</td>\n",
       "      <td> 0</td>\n",
       "      <td> 8.14350</td>\n",
       "      <td> 20141201T000000</td>\n",
       "      <td> 1</td>\n",
       "      <td> 1</td>\n",
       "      <td> 1</td>\n",
       "    </tr>\n",
       "    <tr>\n",
       "      <th>1</th>\n",
       "      <td> 1077430</td>\n",
       "      <td> 1314167</td>\n",
       "      <td>  2500</td>\n",
       "      <td>  2500</td>\n",
       "      <td>  2500</td>\n",
       "      <td>  60 months</td>\n",
       "      <td> 15.27</td>\n",
       "      <td>  59.83</td>\n",
       "      <td> C</td>\n",
       "      <td> C4</td>\n",
       "      <td>...</td>\n",
       "      <td> 0.8</td>\n",
       "      <td> 1</td>\n",
       "      <td> 1</td>\n",
       "      <td> 1</td>\n",
       "      <td> 1</td>\n",
       "      <td> 2.39320</td>\n",
       "      <td> 20161201T000000</td>\n",
       "      <td> 1</td>\n",
       "      <td> 1</td>\n",
       "      <td> 1</td>\n",
       "    </tr>\n",
       "    <tr>\n",
       "      <th>2</th>\n",
       "      <td> 1077175</td>\n",
       "      <td> 1313524</td>\n",
       "      <td>  2400</td>\n",
       "      <td>  2400</td>\n",
       "      <td>  2400</td>\n",
       "      <td>  36 months</td>\n",
       "      <td> 15.96</td>\n",
       "      <td>  84.33</td>\n",
       "      <td> C</td>\n",
       "      <td> C5</td>\n",
       "      <td>...</td>\n",
       "      <td> 1.0</td>\n",
       "      <td> 1</td>\n",
       "      <td> 1</td>\n",
       "      <td> 1</td>\n",
       "      <td> 0</td>\n",
       "      <td> 8.25955</td>\n",
       "      <td> 20141201T000000</td>\n",
       "      <td> 1</td>\n",
       "      <td> 1</td>\n",
       "      <td> 1</td>\n",
       "    </tr>\n",
       "    <tr>\n",
       "      <th>3</th>\n",
       "      <td> 1076863</td>\n",
       "      <td> 1277178</td>\n",
       "      <td> 10000</td>\n",
       "      <td> 10000</td>\n",
       "      <td> 10000</td>\n",
       "      <td>  36 months</td>\n",
       "      <td> 13.49</td>\n",
       "      <td> 339.31</td>\n",
       "      <td> C</td>\n",
       "      <td> C1</td>\n",
       "      <td>...</td>\n",
       "      <td> 0.2</td>\n",
       "      <td> 1</td>\n",
       "      <td> 1</td>\n",
       "      <td> 1</td>\n",
       "      <td> 0</td>\n",
       "      <td> 8.27585</td>\n",
       "      <td> 20141201T000000</td>\n",
       "      <td> 0</td>\n",
       "      <td> 1</td>\n",
       "      <td> 1</td>\n",
       "    </tr>\n",
       "    <tr>\n",
       "      <th>4</th>\n",
       "      <td> 1075269</td>\n",
       "      <td> 1311441</td>\n",
       "      <td>  5000</td>\n",
       "      <td>  5000</td>\n",
       "      <td>  5000</td>\n",
       "      <td>  36 months</td>\n",
       "      <td>  7.90</td>\n",
       "      <td> 156.46</td>\n",
       "      <td> A</td>\n",
       "      <td> A4</td>\n",
       "      <td>...</td>\n",
       "      <td> 0.8</td>\n",
       "      <td> 1</td>\n",
       "      <td> 1</td>\n",
       "      <td> 1</td>\n",
       "      <td> 0</td>\n",
       "      <td> 5.21533</td>\n",
       "      <td> 20141201T000000</td>\n",
       "      <td> 1</td>\n",
       "      <td> 1</td>\n",
       "      <td> 1</td>\n",
       "    </tr>\n",
       "  </tbody>\n",
       "</table>\n",
       "<p>5 rows × 68 columns</p>\n",
       "</div>"
      ],
      "text/plain": [
       "        id  member_id  loan_amnt  funded_amnt  funded_amnt_inv        term  \\\n",
       "0  1077501    1296599       5000         5000             4975   36 months   \n",
       "1  1077430    1314167       2500         2500             2500   60 months   \n",
       "2  1077175    1313524       2400         2400             2400   36 months   \n",
       "3  1076863    1277178      10000        10000            10000   36 months   \n",
       "4  1075269    1311441       5000         5000             5000   36 months   \n",
       "\n",
       "   int_rate  installment grade sub_grade    ...    sub_grade_num  \\\n",
       "0     10.65       162.87     B        B2    ...              0.4   \n",
       "1     15.27        59.83     C        C4    ...              0.8   \n",
       "2     15.96        84.33     C        C5    ...              1.0   \n",
       "3     13.49       339.31     C        C1    ...              0.2   \n",
       "4      7.90       156.46     A        A4    ...              0.8   \n",
       "\n",
       "  delinq_2yrs_zero pub_rec_zero  collections_12_mths_zero short_emp  \\\n",
       "0                1            1                         1         0   \n",
       "1                1            1                         1         1   \n",
       "2                1            1                         1         0   \n",
       "3                1            1                         1         0   \n",
       "4                1            1                         1         0   \n",
       "\n",
       "  payment_inc_ratio          final_d last_delinq_none last_record_none  \\\n",
       "0           8.14350  20141201T000000                1                1   \n",
       "1           2.39320  20161201T000000                1                1   \n",
       "2           8.25955  20141201T000000                1                1   \n",
       "3           8.27585  20141201T000000                0                1   \n",
       "4           5.21533  20141201T000000                1                1   \n",
       "\n",
       "  last_major_derog_none  \n",
       "0                     1  \n",
       "1                     1  \n",
       "2                     1  \n",
       "3                     1  \n",
       "4                     1  \n",
       "\n",
       "[5 rows x 68 columns]"
      ]
     },
     "execution_count": 4,
     "metadata": {},
     "output_type": "execute_result"
    }
   ],
   "source": [
    "df.head()"
   ]
  },
  {
   "cell_type": "code",
   "execution_count": 5,
   "metadata": {
    "collapsed": false
   },
   "outputs": [],
   "source": [
    "# change 0 to 1 and 1 to -1\n",
    "# 1 means good loan\n",
    "# -1 means bad loan\n",
    "bad_loans_map = {1: -1, 0: 1}"
   ]
  },
  {
   "cell_type": "code",
   "execution_count": 6,
   "metadata": {
    "collapsed": false
   },
   "outputs": [],
   "source": [
    "df[\"bad_loans\"] = df[\"bad_loans\"].map(bad_loans_map)"
   ]
  },
  {
   "cell_type": "markdown",
   "metadata": {},
   "source": [
    "#### True/False ratio"
   ]
  },
  {
   "cell_type": "code",
   "execution_count": 7,
   "metadata": {
    "collapsed": false
   },
   "outputs": [
    {
     "name": "stdout",
     "output_type": "stream",
     "text": [
      "Good loans: 81.12%\n",
      "Bad loans:  18.88%\n"
     ]
    }
   ],
   "source": [
    "num_good_loans = len(df.loc[df[\"bad_loans\"] == 1])\n",
    "num_bad_loans = len(df.loc[df[\"bad_loans\"] == -1])\n",
    "print(\"Good loans: {0:.2f}%\".format(num_good_loans/len(df) * 100))\n",
    "print(\"Bad loans:  {0:.2f}%\".format(num_bad_loans/len(df) * 100))"
   ]
  },
  {
   "cell_type": "markdown",
   "metadata": {},
   "source": [
    "#### Does this distribution (split) make the problem of identifying risky loans challenging? Explain your answer."
   ]
  },
  {
   "cell_type": "markdown",
   "metadata": {},
   "source": [
    "!!!The lending club data is imbalanced, and the ratio is around 81:19. This could cause ploblems. One of problems, is misleading the answer, beause one classificaiton has a way more data then other classification. This could lead our model to predict the only one type of classification which gives more model accuracy."
   ]
  },
  {
   "cell_type": "markdown",
   "metadata": {},
   "source": [
    "## PART2: Feature Selection"
   ]
  },
  {
   "cell_type": "code",
   "execution_count": 8,
   "metadata": {
    "collapsed": false
   },
   "outputs": [],
   "source": [
    "feature_col_names = [\"grade\",\"sub_grade\",\"short_emp\",\"emp_length_num\",\"home_ownership\",\"dti\",\"purpose\",\"term\",\"last_delinq_none\",\"last_major_derog_none\",\"revol_util\",\"total_rec_late_fee\"]\n",
    "predicted_class_names = [\"bad_loans\"]\n",
    "X_df = df[feature_col_names]"
   ]
  },
  {
   "cell_type": "markdown",
   "metadata": {
    "collapsed": true
   },
   "source": [
    "## PART3: Building a Decision Trees Classifier "
   ]
  },
  {
   "cell_type": "markdown",
   "metadata": {},
   "source": [
    "#### Check # of unique categores for each categorical feature"
   ]
  },
  {
   "cell_type": "code",
   "execution_count": 9,
   "metadata": {
    "collapsed": false
   },
   "outputs": [
    {
     "name": "stdout",
     "output_type": "stream",
     "text": [
      "Feature 'grade' has 7 unique categories\n",
      "Feature 'sub_grade' has 35 unique categories\n",
      "Feature 'home_ownership' has 4 unique categories\n",
      "Feature 'purpose' has 12 unique categories\n",
      "Feature 'term' has 2 unique categories\n"
     ]
    }
   ],
   "source": [
    "feature_col_categorical = [\"grade\",\"sub_grade\",\"home_ownership\",\"purpose\",\"term\"]\n",
    "for col_name in feature_col_categorical:\n",
    "    cat_unique = len(df[col_name].unique())\n",
    "    print(\"Feature '{0}' has {1} unique categories\".format(col_name,cat_unique))"
   ]
  },
  {
   "cell_type": "markdown",
   "metadata": {},
   "source": [
    "#### Dummy variables"
   ]
  },
  {
   "cell_type": "code",
   "execution_count": 10,
   "metadata": {
    "collapsed": false
   },
   "outputs": [],
   "source": [
    "def dummy_df(df, dummy_list):\n",
    "    for dummy in dummy_list:\n",
    "        dummies = pd.get_dummies(X_df[dummy], prefix=dummy, dummy_na=False)\n",
    "        df = df.drop(dummy,1)\n",
    "        df = pd.concat([df, dummies], axis=1)\n",
    "    return df"
   ]
  },
  {
   "cell_type": "code",
   "execution_count": 11,
   "metadata": {
    "collapsed": false
   },
   "outputs": [],
   "source": [
    "# If I were using pandas 0.19.2, I could have used different approach\n",
    "# pd.get_dummies(df, columns=['category1','category2'], drop_first=True)\n",
    "# drop_frist: k-1 dummies\n",
    "X_df = dummy_df(X_df, feature_col_categorical)\n",
    "\n",
    "\n",
    "X = X_df.values\n",
    "y = df[predicted_class_names].values"
   ]
  },
  {
   "cell_type": "markdown",
   "metadata": {},
   "source": [
    "#### Splitting the data"
   ]
  },
  {
   "cell_type": "code",
   "execution_count": 12,
   "metadata": {
    "collapsed": true
   },
   "outputs": [],
   "source": [
    "from sklearn.model_selection import train_test_split\n",
    "\n",
    "split_test_size = 0.2\n",
    "X_train, X_test, y_train, y_test = train_test_split(X,y, test_size = split_test_size, random_state=42)"
   ]
  },
  {
   "cell_type": "markdown",
   "metadata": {},
   "source": [
    "#### We check to ensure we have the desired 70% train, 20% test split of the data"
   ]
  },
  {
   "cell_type": "code",
   "execution_count": 13,
   "metadata": {
    "collapsed": false
   },
   "outputs": [
    {
     "name": "stdout",
     "output_type": "stream",
     "text": [
      "80.00% in training data\n",
      "20.00% in test data\n"
     ]
    }
   ],
   "source": [
    "print(\"{0:.2f}% in training data\".format(len(X_train)/len(X) * 100))\n",
    "print(\"{0:.2f}% in test data\".format(len(X_test)/len(X) * 100))"
   ]
  },
  {
   "cell_type": "markdown",
   "metadata": {},
   "source": [
    "#### Create a D3 model"
   ]
  },
  {
   "cell_type": "code",
   "execution_count": 14,
   "metadata": {
    "collapsed": false
   },
   "outputs": [],
   "source": [
    "from sklearn import tree"
   ]
  },
  {
   "cell_type": "code",
   "execution_count": 15,
   "metadata": {
    "collapsed": false
   },
   "outputs": [
    {
     "data": {
      "text/plain": [
       "DecisionTreeClassifier(class_weight='balanced', criterion='gini', max_depth=2,\n",
       "            max_features=None, max_leaf_nodes=None,\n",
       "            min_impurity_split=1e-07, min_samples_leaf=1,\n",
       "            min_samples_split=2, min_weight_fraction_leaf=0.0,\n",
       "            presort=False, random_state=None, splitter='best')"
      ]
     },
     "execution_count": 15,
     "metadata": {},
     "output_type": "execute_result"
    }
   ],
   "source": [
    "d3_model = tree.DecisionTreeClassifier(class_weight='balanced')\n",
    "d3_model.fit(X_train, y_train)\n",
    "\n",
    "d3_model_small = tree.DecisionTreeClassifier(max_depth=2, class_weight='balanced') \n",
    "d3_model_small.fit(X_train, y_train)"
   ]
  },
  {
   "cell_type": "markdown",
   "metadata": {},
   "source": [
    "## Part 4: (Optional) Visualizing the learned model"
   ]
  },
  {
   "cell_type": "code",
   "execution_count": 16,
   "metadata": {
    "collapsed": false
   },
   "outputs": [
    {
     "data": {
      "image/png": "[encoded data removed]",
      "text/plain": [
       "<IPython.core.display.Image object>"
      ]
     },
     "execution_count": 16,
     "metadata": {},
     "output_type": "execute_result"
    }
   ],
   "source": [
    "from IPython.display import Image \n",
    "import pydotplus\n",
    "\n",
    "dot_data = tree.export_graphviz(d3_model_small, out_file=None, feature_names=list(X_df.columns), class_names=[\"Safe Loan\",\"Risky Loan\"])\n",
    "graph = pydotplus.graph_from_dot_data(dot_data)\n",
    "Image(graph.create_png())"
   ]
  },
  {
   "cell_type": "markdown",
   "metadata": {},
   "source": [
    "#### Which feature is the root of the decision_tree_model?"
   ]
  },
  {
   "cell_type": "code",
   "execution_count": 17,
   "metadata": {
    "collapsed": true
   },
   "outputs": [],
   "source": [
    "# dot_data = tree.export_graphviz(d3_model, out_file=None, feature_names=list(X_df.columns), class_names=[\"Safe Loan\",\"Risky Loan\"])\n",
    "# graph = pydotplus.graph_from_dot_data(dot_data)\n",
    "# Image(graph.create_png())"
   ]
  },
  {
   "cell_type": "markdown",
   "metadata": {},
   "source": [
    "## Part 5: Making predictions and exploring predictions"
   ]
  },
  {
   "cell_type": "code",
   "execution_count": 18,
   "metadata": {
    "collapsed": false
   },
   "outputs": [],
   "source": [
    "# 0 1\n",
    "# 1 1\n",
    "# 2 -1\n",
    "# 8 -1\n",
    "X_samples = [X_test[0],X_test[1],X_test[2],X_test[8]]\n",
    "y_samples = [y_test[0],y_test[1],y_test[2],y_test[8]]\n",
    "d3_predict_test = d3_model.predict(X_samples)"
   ]
  },
  {
   "cell_type": "markdown",
   "metadata": {},
   "source": [
    "#### What percentage of the predictions on these 4 samples did decision_tree_modelget correct?"
   ]
  },
  {
   "cell_type": "code",
   "execution_count": 19,
   "metadata": {
    "collapsed": false
   },
   "outputs": [
    {
     "name": "stdout",
     "output_type": "stream",
     "text": [
      "75.00% get correct\n"
     ]
    }
   ],
   "source": [
    "from sklearn import metrics\n",
    "\n",
    "\n",
    "print(\"{0:.2f}% get correct\".format(metrics.accuracy_score(y_samples, d3_predict_test)*100))"
   ]
  },
  {
   "cell_type": "markdown",
   "metadata": {},
   "source": [
    "#### What is the probability (according to decision_tree_model) of a loan being classified as safe? (If you are using scikit-learn, you can use the .predict_proba() method)"
   ]
  },
  {
   "cell_type": "code",
   "execution_count": 20,
   "metadata": {
    "collapsed": false
   },
   "outputs": [
    {
     "data": {
      "text/plain": [
       "<matplotlib.text.Text at 0x7f761076e7f0>"
      ]
     },
     "execution_count": 20,
     "metadata": {},
     "output_type": "execute_result"
    },
    {
     "data": {
      "image/png": "[encoded data removed]",
      "text/plain": [
       "<matplotlib.figure.Figure at 0x7f76107c46a0>"
      ]
     },
     "metadata": {},
     "output_type": "display_data"
    }
   ],
   "source": [
    "d3_predict_prob = d3_model.predict_proba(X_samples)\n",
    "plt.hist(d3_predict_prob, bins=8)\n",
    "plt.xlim(0,1)\n",
    "plt.title('Histogram of predicted probabilities')\n",
    "plt.xlabel('Predicted probability of loans') \n",
    "plt.ylabel('Frequency')"
   ]
  },
  {
   "cell_type": "markdown",
   "metadata": {},
   "source": [
    "#### Which loan has the highest probability of being classified as a safe loan?\n",
    "\n",
    "A: The first loan of 4 samples has the highest probability of being classified as a safe loan"
   ]
  },
  {
   "cell_type": "markdown",
   "metadata": {},
   "source": [
    "#### Can you verify that for all the predictions with probability >= 0.5, the model predicted the label +1?"
   ]
  },
  {
   "cell_type": "code",
   "execution_count": 21,
   "metadata": {
    "collapsed": false
   },
   "outputs": [
    {
     "name": "stdout",
     "output_type": "stream",
     "text": [
      "[[ 0.  1.]\n",
      " [ 0.  1.]\n",
      " [ 1.  0.]\n",
      " [ 0.  1.]]\n"
     ]
    }
   ],
   "source": [
    "print(d3_predict_prob)"
   ]
  },
  {
   "cell_type": "markdown",
   "metadata": {},
   "source": [
    "Based on above result, the model predicted the label +1 >= 0.5 b/c first 2 samples are safe loan out of given 4 samples."
   ]
  },
  {
   "cell_type": "markdown",
   "metadata": {},
   "source": [
    "#### Using the small_model what is the probability of these four loans being classified as safe?"
   ]
  },
  {
   "cell_type": "code",
   "execution_count": 22,
   "metadata": {
    "collapsed": false
   },
   "outputs": [
    {
     "data": {
      "text/plain": [
       "array([[ 0.59747074,  0.40252926],\n",
       "       [ 0.59747074,  0.40252926],\n",
       "       [ 0.59747074,  0.40252926],\n",
       "       [ 0.59747074,  0.40252926]])"
      ]
     },
     "execution_count": 22,
     "metadata": {},
     "output_type": "execute_result"
    }
   ],
   "source": [
    "d3_model_small.predict_proba(X_samples)"
   ]
  },
  {
   "cell_type": "markdown",
   "metadata": {},
   "source": [
    "Around 40% these four loans being classified as safe"
   ]
  },
  {
   "cell_type": "markdown",
   "metadata": {},
   "source": [
    "#### How do these predictions compare to the predictions made by the decision_tree_model?"
   ]
  },
  {
   "cell_type": "markdown",
   "metadata": {},
   "source": [
    "The model_small has a low probaility of predicting a safe loan compare to decision_tree_model b/c of the tree depth"
   ]
  },
  {
   "cell_type": "markdown",
   "metadata": {},
   "source": [
    "## Part 6: Evaluating accuracy of the decision tree model"
   ]
  },
  {
   "cell_type": "markdown",
   "metadata": {},
   "source": [
    "#### What is the accuracy of decision_tree_model on the validation set, rounded to the nearest .01?"
   ]
  },
  {
   "cell_type": "code",
   "execution_count": 23,
   "metadata": {
    "collapsed": false
   },
   "outputs": [
    {
     "name": "stdout",
     "output_type": "stream",
     "text": [
      "Accuracy decisition_tree_model on training data: 100.00%\n",
      "Accuracy model_small on training data: 56.04%\n",
      "\n",
      "Accuracy decisition_tree_model on validation data: 71.21%\n"
     ]
    }
   ],
   "source": [
    "d3_predict_train = d3_model.predict(X_train)\n",
    "d3_small_predect_train = d3_model_small.predict(X_train)\n",
    "\n",
    "print(\"Accuracy decisition_tree_model on training data: {0:.2f}%\".format(metrics.accuracy_score(d3_predict_train, y_train) * 100))\n",
    "print(\"Accuracy model_small on training data: {0:.2f}%\".format(metrics.accuracy_score(d3_small_predect_train, y_train) * 100))\n",
    "\n",
    "d3_predict_test = d3_model.predict(X_test)\n",
    "\n",
    "print(\"\\nAccuracy decisition_tree_model on validation data: {0:.2f}%\".format(metrics.accuracy_score(d3_predict_test, y_test) * 100))"
   ]
  },
  {
   "cell_type": "markdown",
   "metadata": {},
   "source": [
    "## Part 7: A complex decision tree model"
   ]
  },
  {
   "cell_type": "code",
   "execution_count": 24,
   "metadata": {
    "collapsed": false
   },
   "outputs": [],
   "source": [
    "d3_model_big = tree.DecisionTreeClassifier(max_depth=10, class_weight='balanced') \n",
    "d3_model_big.fit(X_train,y_train)\n",
    "d3_predict_big_train = d3_model_big.predict(X_train)\n",
    "d3_predict_big_test = d3_model_big.predict(X_test)\n",
    "\n"
   ]
  },
  {
   "cell_type": "markdown",
   "metadata": {},
   "source": [
    "#### How does the performance of the big_model compare to the performance of the decision_tree_model on the training set?"
   ]
  },
  {
   "cell_type": "code",
   "execution_count": 25,
   "metadata": {
    "collapsed": false
   },
   "outputs": [
    {
     "name": "stdout",
     "output_type": "stream",
     "text": [
      "Accuracy model_big on training data: 66.41%\n",
      "Accuracy decisition_tree_model on training data: 100.00%\n"
     ]
    }
   ],
   "source": [
    "print(\"Accuracy model_big on training data: {0:.2f}%\".format(metrics.accuracy_score(d3_predict_big_train, y_train) * 100))\n",
    "print(\"Accuracy decisition_tree_model on training data: {0:.2f}%\".format(metrics.accuracy_score(d3_predict_train, y_train) * 100))"
   ]
  },
  {
   "cell_type": "markdown",
   "metadata": {},
   "source": [
    "#### How does the performance of the big_model compare to the performance of the decision_tree_model on the validation set? "
   ]
  },
  {
   "cell_type": "code",
   "execution_count": 26,
   "metadata": {
    "collapsed": false
   },
   "outputs": [
    {
     "name": "stdout",
     "output_type": "stream",
     "text": [
      "Accuracy model_big on validation data: 64.95%\n",
      "Accuracy decisition_tree_model on validation data: 71.21%\n"
     ]
    }
   ],
   "source": [
    "print(\"Accuracy model_big on validation data: {0:.2f}%\".format(metrics.accuracy_score(d3_predict_big_test, y_test) * 100))\n",
    "print(\"Accuracy decisition_tree_model on validation data: {0:.2f}%\".format(metrics.accuracy_score(d3_predict_test, y_test) * 100))"
   ]
  },
  {
   "cell_type": "markdown",
   "metadata": {
    "collapsed": true
   },
   "source": [
    "#### Which model would you recommend as a final predictor for whether or not a loan provided by LendingClub is likely to default? Explain your recommendation.\n",
    "\n",
    "I would recommend a decisition_tree_model as a final predictor b/c it predicts better based on accuracy score. However, I still need to use other matrixies to make a final decistion. Accuracy score is not enough to make a decistion for selecting a final candidate model due to a ratio of bad_loans 81:19."
   ]
  },
  {
   "cell_type": "markdown",
   "metadata": {},
   "source": [
    "## Part 8: Quantifying the cost of mistakes"
   ]
  },
  {
   "cell_type": "code",
   "execution_count": 27,
   "metadata": {
    "collapsed": false
   },
   "outputs": [
    {
     "name": "stdout",
     "output_type": "stream",
     "text": [
      "Confustion matrix:\n",
      " [[16238  3560]\n",
      " [ 3499  1225]]\n"
     ]
    }
   ],
   "source": [
    "print(\"Confustion matrix:\\n {0}\".format(metrics.confusion_matrix(y_test, d3_predict_test, labels=[1,-1])))"
   ]
  },
  {
   "cell_type": "markdown",
   "metadata": {},
   "source": [
    "* TP: 16293\n",
    "* FP: 3505\n",
    "* FN: 3487\n",
    "* TN: 1237"
   ]
  },
  {
   "cell_type": "markdown",
   "metadata": {},
   "source": [
    "#### If we assume that each false negative costs \\$10,000, while a false positive costs $20,000. What is the total cost of mistakes made by the decision_tree_model on the validation_data?"
   ]
  },
  {
   "cell_type": "code",
   "execution_count": 28,
   "metadata": {
    "collapsed": false
   },
   "outputs": [
    {
     "name": "stdout",
     "output_type": "stream",
     "text": [
      "The total cost of mistakes made by the decision_tree_model on the validation_data: 104970000$\n"
     ]
    }
   ],
   "source": [
    "print(\"The total cost of mistakes made by the decision_tree_model on the validation_data: {0}$\".format((3505*20000)+(3487*10000)))"
   ]
  },
  {
   "cell_type": "code",
   "execution_count": null,
   "metadata": {
    "collapsed": true
   },
   "outputs": [],
   "source": []
  }
 ],
 "metadata": {
  "kernelspec": {
   "display_name": "Python 3",
   "language": "python",
   "name": "python3"
  },
  "language_info": {
   "codemirror_mode": {
    "name": "ipython",
    "version": 3
   },
   "file_extension": ".py",
   "mimetype": "text/x-python",
   "name": "python",
   "nbconvert_exporter": "python",
   "pygments_lexer": "ipython3",
   "version": "3.4.2"
  }
 },
 "nbformat": 4,
 "nbformat_minor": 2
}
