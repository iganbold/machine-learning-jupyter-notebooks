{
 "cells": [
  {
   "cell_type": "markdown",
   "metadata": {
    "collapsed": false
   },
   "source": [
    "# Predicting Diabetes"
   ]
  },
  {
   "cell_type": "markdown",
   "metadata": {},
   "source": [
    "### Import libraries"
   ]
  },
  {
   "cell_type": "code",
   "execution_count": 2,
   "metadata": {
    "collapsed": true
   },
   "outputs": [],
   "source": [
    "import pandas as pd               #panda is a data frame library\n",
    "import matplotlib.pyplot as plt   #mathplotlib.pyplot plots data\n",
    "import numpy as np                #numpy provides N-dim object support\n",
    "\n",
    "#do ploting inline instead of in a seperate window\n",
    "%matplotlib inline"
   ]
  },
  {
   "cell_type": "code",
   "execution_count": 3,
   "metadata": {
    "collapsed": true
   },
   "outputs": [],
   "source": [
    "df = pd.read_csv(\"./data/pima-data.csv\")  # load pima data. Adjust path as necessary"
   ]
  },
  {
   "cell_type": "code",
   "execution_count": 4,
   "metadata": {
    "collapsed": false
   },
   "outputs": [
    {
     "data": {
      "text/plain": [
       "(768, 10)"
      ]
     },
     "execution_count": 4,
     "metadata": {},
     "output_type": "execute_result"
    }
   ],
   "source": [
    "df.shape # shows in (rows, columns)"
   ]
  },
  {
   "cell_type": "code",
   "execution_count": 5,
   "metadata": {
    "collapsed": false
   },
   "outputs": [
    {
     "data": {
      "text/html": [
       "<div style=\"max-height:1000px;max-width:1500px;overflow:auto;\">\n",
       "<table border=\"1\" class=\"dataframe\">\n",
       "  <thead>\n",
       "    <tr style=\"text-align: right;\">\n",
       "      <th></th>\n",
       "      <th>num_preg</th>\n",
       "      <th>glucose_conc</th>\n",
       "      <th>diastolic_bp</th>\n",
       "      <th>thickness</th>\n",
       "      <th>insulin</th>\n",
       "      <th>bmi</th>\n",
       "      <th>diab_pred</th>\n",
       "      <th>age</th>\n",
       "      <th>skin</th>\n",
       "      <th>diabetes</th>\n",
       "    </tr>\n",
       "  </thead>\n",
       "  <tbody>\n",
       "    <tr>\n",
       "      <th>0</th>\n",
       "      <td> 6</td>\n",
       "      <td> 148</td>\n",
       "      <td> 72</td>\n",
       "      <td> 35</td>\n",
       "      <td>   0</td>\n",
       "      <td> 33.6</td>\n",
       "      <td> 0.627</td>\n",
       "      <td> 50</td>\n",
       "      <td> 1.3790</td>\n",
       "      <td>  True</td>\n",
       "    </tr>\n",
       "    <tr>\n",
       "      <th>1</th>\n",
       "      <td> 1</td>\n",
       "      <td>  85</td>\n",
       "      <td> 66</td>\n",
       "      <td> 29</td>\n",
       "      <td>   0</td>\n",
       "      <td> 26.6</td>\n",
       "      <td> 0.351</td>\n",
       "      <td> 31</td>\n",
       "      <td> 1.1426</td>\n",
       "      <td> False</td>\n",
       "    </tr>\n",
       "    <tr>\n",
       "      <th>2</th>\n",
       "      <td> 8</td>\n",
       "      <td> 183</td>\n",
       "      <td> 64</td>\n",
       "      <td>  0</td>\n",
       "      <td>   0</td>\n",
       "      <td> 23.3</td>\n",
       "      <td> 0.672</td>\n",
       "      <td> 32</td>\n",
       "      <td> 0.0000</td>\n",
       "      <td>  True</td>\n",
       "    </tr>\n",
       "    <tr>\n",
       "      <th>3</th>\n",
       "      <td> 1</td>\n",
       "      <td>  89</td>\n",
       "      <td> 66</td>\n",
       "      <td> 23</td>\n",
       "      <td>  94</td>\n",
       "      <td> 28.1</td>\n",
       "      <td> 0.167</td>\n",
       "      <td> 21</td>\n",
       "      <td> 0.9062</td>\n",
       "      <td> False</td>\n",
       "    </tr>\n",
       "    <tr>\n",
       "      <th>4</th>\n",
       "      <td> 0</td>\n",
       "      <td> 137</td>\n",
       "      <td> 40</td>\n",
       "      <td> 35</td>\n",
       "      <td> 168</td>\n",
       "      <td> 43.1</td>\n",
       "      <td> 2.288</td>\n",
       "      <td> 33</td>\n",
       "      <td> 1.3790</td>\n",
       "      <td>  True</td>\n",
       "    </tr>\n",
       "  </tbody>\n",
       "</table>\n",
       "</div>"
      ],
      "text/plain": [
       "   num_preg  glucose_conc  diastolic_bp  thickness  insulin   bmi  diab_pred  \\\n",
       "0         6           148            72         35        0  33.6      0.627   \n",
       "1         1            85            66         29        0  26.6      0.351   \n",
       "2         8           183            64          0        0  23.3      0.672   \n",
       "3         1            89            66         23       94  28.1      0.167   \n",
       "4         0           137            40         35      168  43.1      2.288   \n",
       "\n",
       "   age    skin diabetes  \n",
       "0   50  1.3790     True  \n",
       "1   31  1.1426    False  \n",
       "2   32  0.0000     True  \n",
       "3   21  0.9062    False  \n",
       "4   33  1.3790     True  "
      ]
     },
     "execution_count": 5,
     "metadata": {},
     "output_type": "execute_result"
    }
   ],
   "source": [
    "df.head(5) # shows first 5 rows"
   ]
  },
  {
   "cell_type": "code",
   "execution_count": 6,
   "metadata": {
    "collapsed": false,
    "scrolled": true
   },
   "outputs": [
    {
     "data": {
      "text/html": [
       "<div style=\"max-height:1000px;max-width:1500px;overflow:auto;\">\n",
       "<table border=\"1\" class=\"dataframe\">\n",
       "  <thead>\n",
       "    <tr style=\"text-align: right;\">\n",
       "      <th></th>\n",
       "      <th>num_preg</th>\n",
       "      <th>glucose_conc</th>\n",
       "      <th>diastolic_bp</th>\n",
       "      <th>thickness</th>\n",
       "      <th>insulin</th>\n",
       "      <th>bmi</th>\n",
       "      <th>diab_pred</th>\n",
       "      <th>age</th>\n",
       "      <th>skin</th>\n",
       "      <th>diabetes</th>\n",
       "    </tr>\n",
       "  </thead>\n",
       "  <tbody>\n",
       "    <tr>\n",
       "      <th>763</th>\n",
       "      <td> 10</td>\n",
       "      <td> 101</td>\n",
       "      <td> 76</td>\n",
       "      <td> 48</td>\n",
       "      <td> 180</td>\n",
       "      <td> 32.9</td>\n",
       "      <td> 0.171</td>\n",
       "      <td> 63</td>\n",
       "      <td> 1.8912</td>\n",
       "      <td> False</td>\n",
       "    </tr>\n",
       "    <tr>\n",
       "      <th>764</th>\n",
       "      <td>  2</td>\n",
       "      <td> 122</td>\n",
       "      <td> 70</td>\n",
       "      <td> 27</td>\n",
       "      <td>   0</td>\n",
       "      <td> 36.8</td>\n",
       "      <td> 0.340</td>\n",
       "      <td> 27</td>\n",
       "      <td> 1.0638</td>\n",
       "      <td> False</td>\n",
       "    </tr>\n",
       "    <tr>\n",
       "      <th>765</th>\n",
       "      <td>  5</td>\n",
       "      <td> 121</td>\n",
       "      <td> 72</td>\n",
       "      <td> 23</td>\n",
       "      <td> 112</td>\n",
       "      <td> 26.2</td>\n",
       "      <td> 0.245</td>\n",
       "      <td> 30</td>\n",
       "      <td> 0.9062</td>\n",
       "      <td> False</td>\n",
       "    </tr>\n",
       "    <tr>\n",
       "      <th>766</th>\n",
       "      <td>  1</td>\n",
       "      <td> 126</td>\n",
       "      <td> 60</td>\n",
       "      <td>  0</td>\n",
       "      <td>   0</td>\n",
       "      <td> 30.1</td>\n",
       "      <td> 0.349</td>\n",
       "      <td> 47</td>\n",
       "      <td> 0.0000</td>\n",
       "      <td>  True</td>\n",
       "    </tr>\n",
       "    <tr>\n",
       "      <th>767</th>\n",
       "      <td>  1</td>\n",
       "      <td>  93</td>\n",
       "      <td> 70</td>\n",
       "      <td> 31</td>\n",
       "      <td>   0</td>\n",
       "      <td> 30.4</td>\n",
       "      <td> 0.315</td>\n",
       "      <td> 23</td>\n",
       "      <td> 1.2214</td>\n",
       "      <td> False</td>\n",
       "    </tr>\n",
       "  </tbody>\n",
       "</table>\n",
       "</div>"
      ],
      "text/plain": [
       "     num_preg  glucose_conc  diastolic_bp  thickness  insulin   bmi  \\\n",
       "763        10           101            76         48      180  32.9   \n",
       "764         2           122            70         27        0  36.8   \n",
       "765         5           121            72         23      112  26.2   \n",
       "766         1           126            60          0        0  30.1   \n",
       "767         1            93            70         31        0  30.4   \n",
       "\n",
       "     diab_pred  age    skin diabetes  \n",
       "763      0.171   63  1.8912    False  \n",
       "764      0.340   27  1.0638    False  \n",
       "765      0.245   30  0.9062    False  \n",
       "766      0.349   47  0.0000     True  \n",
       "767      0.315   23  1.2214    False  "
      ]
     },
     "execution_count": 6,
     "metadata": {},
     "output_type": "execute_result"
    }
   ],
   "source": [
    "df.tail(5) # end of the data frame"
   ]
  },
  {
   "cell_type": "markdown",
   "metadata": {},
   "source": [
    "### Definition of features\n",
    "From the metadata on the data source we have the following definition of the features.\n",
    "\n",
    "|Feature\t|Description\t|Comments|\n",
    "|-----------|---------------|--------|\n",
    "|num_preg\t|number of pregnancies|\n",
    "|glucose_conc\t|Plasma glucose concentration a 2 hours in an oral glucose tolerance test|\n",
    "|diastolic_bp\t|Diastolic blood pressure (mm Hg)|\n",
    "|thickness\t|Triceps skin fold thickness (mm)|\n",
    "|insulin\t|2-Hour serum insulin (mu U/ml)|\n",
    "|bmi\t|Body mass index (weight in kg/(height in m)^2)|\n",
    "|diab_pred\t|Diabetes pedigree function|\n",
    "|Age (years)\t|Age (years)|\n",
    "|skin\t|????\t|What is this?|\n",
    "|diabetes\t|Class variable (1=True, 0=False)\t|Why is our data boolean (True/False)?|"
   ]
  },
  {
   "cell_type": "markdown",
   "metadata": {},
   "source": [
    "### Check for null values"
   ]
  },
  {
   "cell_type": "code",
   "execution_count": 7,
   "metadata": {
    "collapsed": false
   },
   "outputs": [
    {
     "data": {
      "text/plain": [
       "False"
      ]
     },
     "execution_count": 7,
     "metadata": {},
     "output_type": "execute_result"
    }
   ],
   "source": [
    "df.isnull().values.any()"
   ]
  },
  {
   "cell_type": "markdown",
   "metadata": {},
   "source": [
    "### Check correlation and if there is any then delete the correlation"
   ]
  },
  {
   "cell_type": "code",
   "execution_count": 8,
   "metadata": {
    "collapsed": true
   },
   "outputs": [],
   "source": [
    "def plot_corr(df, size=11):\n",
    "    \"\"\"\n",
    "    Function plots a graphical correlation matrix of each pair of columns in the dataframe.\n",
    "    \n",
    "    Input:\n",
    "        df: pandas Data Frame\n",
    "        size: vertical and horizontal size of the plot\n",
    "        \n",
    "    Displays:\n",
    "        matrix of correlation between columns. Blue-cyan-yellow-red-darkred => less to more correlated\n",
    "                                                0------------------------->1\n",
    "                                                Expect a darkred line top left to bottom right\n",
    "    \"\"\"\n",
    "    \n",
    "    corr = df.corr() # data frame correlation function\n",
    "    fig , ax = plt.subplots(figsize=(size,size))\n",
    "    ax.matshow(corr) # color code the rectangles by correlation value\n",
    "    plt.xticks(range(len(corr.columns)), corr.columns) # draw x tick marks\n",
    "    plt.yticks(range(len(corr.columns)), corr.columns)"
   ]
  },
  {
   "cell_type": "code",
   "execution_count": 9,
   "metadata": {
    "collapsed": false
   },
   "outputs": [
    {
     "data": {
      "image/png": "[encoded data removed]",
      "text/plain": [
       "<matplotlib.figure.Figure at 0x7f825a5c3518>"
      ]
     },
     "metadata": {},
     "output_type": "display_data"
    }
   ],
   "source": [
    "plot_corr(df)"
   ]
  },
  {
   "cell_type": "code",
   "execution_count": 10,
   "metadata": {
    "collapsed": false,
    "scrolled": true
   },
   "outputs": [
    {
     "data": {
      "text/html": [
       "<div style=\"max-height:1000px;max-width:1500px;overflow:auto;\">\n",
       "<table border=\"1\" class=\"dataframe\">\n",
       "  <thead>\n",
       "    <tr style=\"text-align: right;\">\n",
       "      <th></th>\n",
       "      <th>num_preg</th>\n",
       "      <th>glucose_conc</th>\n",
       "      <th>diastolic_bp</th>\n",
       "      <th>thickness</th>\n",
       "      <th>insulin</th>\n",
       "      <th>bmi</th>\n",
       "      <th>diab_pred</th>\n",
       "      <th>age</th>\n",
       "      <th>skin</th>\n",
       "      <th>diabetes</th>\n",
       "    </tr>\n",
       "  </thead>\n",
       "  <tbody>\n",
       "    <tr>\n",
       "      <th>num_preg</th>\n",
       "      <td> 1.000000</td>\n",
       "      <td> 0.129459</td>\n",
       "      <td> 0.141282</td>\n",
       "      <td>-0.081672</td>\n",
       "      <td>-0.073535</td>\n",
       "      <td> 0.017683</td>\n",
       "      <td>-0.033523</td>\n",
       "      <td> 0.544341</td>\n",
       "      <td>-0.081672</td>\n",
       "      <td> 0.221898</td>\n",
       "    </tr>\n",
       "    <tr>\n",
       "      <th>glucose_conc</th>\n",
       "      <td> 0.129459</td>\n",
       "      <td> 1.000000</td>\n",
       "      <td> 0.152590</td>\n",
       "      <td> 0.057328</td>\n",
       "      <td> 0.331357</td>\n",
       "      <td> 0.221071</td>\n",
       "      <td> 0.137337</td>\n",
       "      <td> 0.263514</td>\n",
       "      <td> 0.057328</td>\n",
       "      <td> 0.466581</td>\n",
       "    </tr>\n",
       "    <tr>\n",
       "      <th>diastolic_bp</th>\n",
       "      <td> 0.141282</td>\n",
       "      <td> 0.152590</td>\n",
       "      <td> 1.000000</td>\n",
       "      <td> 0.207371</td>\n",
       "      <td> 0.088933</td>\n",
       "      <td> 0.281805</td>\n",
       "      <td> 0.041265</td>\n",
       "      <td> 0.239528</td>\n",
       "      <td> 0.207371</td>\n",
       "      <td> 0.065068</td>\n",
       "    </tr>\n",
       "    <tr>\n",
       "      <th>thickness</th>\n",
       "      <td>-0.081672</td>\n",
       "      <td> 0.057328</td>\n",
       "      <td> 0.207371</td>\n",
       "      <td> 1.000000</td>\n",
       "      <td> 0.436783</td>\n",
       "      <td> 0.392573</td>\n",
       "      <td> 0.183928</td>\n",
       "      <td>-0.113970</td>\n",
       "      <td> 1.000000</td>\n",
       "      <td> 0.074752</td>\n",
       "    </tr>\n",
       "    <tr>\n",
       "      <th>insulin</th>\n",
       "      <td>-0.073535</td>\n",
       "      <td> 0.331357</td>\n",
       "      <td> 0.088933</td>\n",
       "      <td> 0.436783</td>\n",
       "      <td> 1.000000</td>\n",
       "      <td> 0.197859</td>\n",
       "      <td> 0.185071</td>\n",
       "      <td>-0.042163</td>\n",
       "      <td> 0.436783</td>\n",
       "      <td> 0.130548</td>\n",
       "    </tr>\n",
       "    <tr>\n",
       "      <th>bmi</th>\n",
       "      <td> 0.017683</td>\n",
       "      <td> 0.221071</td>\n",
       "      <td> 0.281805</td>\n",
       "      <td> 0.392573</td>\n",
       "      <td> 0.197859</td>\n",
       "      <td> 1.000000</td>\n",
       "      <td> 0.140647</td>\n",
       "      <td> 0.036242</td>\n",
       "      <td> 0.392573</td>\n",
       "      <td> 0.292695</td>\n",
       "    </tr>\n",
       "    <tr>\n",
       "      <th>diab_pred</th>\n",
       "      <td>-0.033523</td>\n",
       "      <td> 0.137337</td>\n",
       "      <td> 0.041265</td>\n",
       "      <td> 0.183928</td>\n",
       "      <td> 0.185071</td>\n",
       "      <td> 0.140647</td>\n",
       "      <td> 1.000000</td>\n",
       "      <td> 0.033561</td>\n",
       "      <td> 0.183928</td>\n",
       "      <td> 0.173844</td>\n",
       "    </tr>\n",
       "    <tr>\n",
       "      <th>age</th>\n",
       "      <td> 0.544341</td>\n",
       "      <td> 0.263514</td>\n",
       "      <td> 0.239528</td>\n",
       "      <td>-0.113970</td>\n",
       "      <td>-0.042163</td>\n",
       "      <td> 0.036242</td>\n",
       "      <td> 0.033561</td>\n",
       "      <td> 1.000000</td>\n",
       "      <td>-0.113970</td>\n",
       "      <td> 0.238356</td>\n",
       "    </tr>\n",
       "    <tr>\n",
       "      <th>skin</th>\n",
       "      <td>-0.081672</td>\n",
       "      <td> 0.057328</td>\n",
       "      <td> 0.207371</td>\n",
       "      <td> 1.000000</td>\n",
       "      <td> 0.436783</td>\n",
       "      <td> 0.392573</td>\n",
       "      <td> 0.183928</td>\n",
       "      <td>-0.113970</td>\n",
       "      <td> 1.000000</td>\n",
       "      <td> 0.074752</td>\n",
       "    </tr>\n",
       "    <tr>\n",
       "      <th>diabetes</th>\n",
       "      <td> 0.221898</td>\n",
       "      <td> 0.466581</td>\n",
       "      <td> 0.065068</td>\n",
       "      <td> 0.074752</td>\n",
       "      <td> 0.130548</td>\n",
       "      <td> 0.292695</td>\n",
       "      <td> 0.173844</td>\n",
       "      <td> 0.238356</td>\n",
       "      <td> 0.074752</td>\n",
       "      <td> 1.000000</td>\n",
       "    </tr>\n",
       "  </tbody>\n",
       "</table>\n",
       "</div>"
      ],
      "text/plain": [
       "              num_preg  glucose_conc  diastolic_bp  thickness   insulin  \\\n",
       "num_preg      1.000000      0.129459      0.141282  -0.081672 -0.073535   \n",
       "glucose_conc  0.129459      1.000000      0.152590   0.057328  0.331357   \n",
       "diastolic_bp  0.141282      0.152590      1.000000   0.207371  0.088933   \n",
       "thickness    -0.081672      0.057328      0.207371   1.000000  0.436783   \n",
       "insulin      -0.073535      0.331357      0.088933   0.436783  1.000000   \n",
       "bmi           0.017683      0.221071      0.281805   0.392573  0.197859   \n",
       "diab_pred    -0.033523      0.137337      0.041265   0.183928  0.185071   \n",
       "age           0.544341      0.263514      0.239528  -0.113970 -0.042163   \n",
       "skin         -0.081672      0.057328      0.207371   1.000000  0.436783   \n",
       "diabetes      0.221898      0.466581      0.065068   0.074752  0.130548   \n",
       "\n",
       "                   bmi  diab_pred       age      skin  diabetes  \n",
       "num_preg      0.017683  -0.033523  0.544341 -0.081672  0.221898  \n",
       "glucose_conc  0.221071   0.137337  0.263514  0.057328  0.466581  \n",
       "diastolic_bp  0.281805   0.041265  0.239528  0.207371  0.065068  \n",
       "thickness     0.392573   0.183928 -0.113970  1.000000  0.074752  \n",
       "insulin       0.197859   0.185071 -0.042163  0.436783  0.130548  \n",
       "bmi           1.000000   0.140647  0.036242  0.392573  0.292695  \n",
       "diab_pred     0.140647   1.000000  0.033561  0.183928  0.173844  \n",
       "age           0.036242   0.033561  1.000000 -0.113970  0.238356  \n",
       "skin          0.392573   0.183928 -0.113970  1.000000  0.074752  \n",
       "diabetes      0.292695   0.173844  0.238356  0.074752  1.000000  "
      ]
     },
     "execution_count": 10,
     "metadata": {},
     "output_type": "execute_result"
    }
   ],
   "source": [
    "df.corr()"
   ]
  },
  {
   "cell_type": "code",
   "execution_count": 11,
   "metadata": {
    "collapsed": false
   },
   "outputs": [],
   "source": [
    "del df['skin']  # delete the skin column b/c skin and thickness have a strong correlation"
   ]
  },
  {
   "cell_type": "code",
   "execution_count": 12,
   "metadata": {
    "collapsed": false
   },
   "outputs": [
    {
     "data": {
      "image/png": "[encoded data removed]",
      "text/plain": [
       "<matplotlib.figure.Figure at 0x7f825a5e6ef0>"
      ]
     },
     "metadata": {},
     "output_type": "display_data"
    }
   ],
   "source": [
    "plot_corr(df)"
   ]
  },
  {
   "cell_type": "markdown",
   "metadata": {},
   "source": [
    "### Check Data types (Make every column numeric)"
   ]
  },
  {
   "cell_type": "code",
   "execution_count": 13,
   "metadata": {
    "collapsed": false
   },
   "outputs": [
    {
     "data": {
      "text/html": [
       "<div style=\"max-height:1000px;max-width:1500px;overflow:auto;\">\n",
       "<table border=\"1\" class=\"dataframe\">\n",
       "  <thead>\n",
       "    <tr style=\"text-align: right;\">\n",
       "      <th></th>\n",
       "      <th>num_preg</th>\n",
       "      <th>glucose_conc</th>\n",
       "      <th>diastolic_bp</th>\n",
       "      <th>thickness</th>\n",
       "      <th>insulin</th>\n",
       "      <th>bmi</th>\n",
       "      <th>diab_pred</th>\n",
       "      <th>age</th>\n",
       "      <th>diabetes</th>\n",
       "    </tr>\n",
       "  </thead>\n",
       "  <tbody>\n",
       "    <tr>\n",
       "      <th>0</th>\n",
       "      <td> 6</td>\n",
       "      <td> 148</td>\n",
       "      <td> 72</td>\n",
       "      <td> 35</td>\n",
       "      <td>   0</td>\n",
       "      <td> 33.6</td>\n",
       "      <td> 0.627</td>\n",
       "      <td> 50</td>\n",
       "      <td>  True</td>\n",
       "    </tr>\n",
       "    <tr>\n",
       "      <th>1</th>\n",
       "      <td> 1</td>\n",
       "      <td>  85</td>\n",
       "      <td> 66</td>\n",
       "      <td> 29</td>\n",
       "      <td>   0</td>\n",
       "      <td> 26.6</td>\n",
       "      <td> 0.351</td>\n",
       "      <td> 31</td>\n",
       "      <td> False</td>\n",
       "    </tr>\n",
       "    <tr>\n",
       "      <th>2</th>\n",
       "      <td> 8</td>\n",
       "      <td> 183</td>\n",
       "      <td> 64</td>\n",
       "      <td>  0</td>\n",
       "      <td>   0</td>\n",
       "      <td> 23.3</td>\n",
       "      <td> 0.672</td>\n",
       "      <td> 32</td>\n",
       "      <td>  True</td>\n",
       "    </tr>\n",
       "    <tr>\n",
       "      <th>3</th>\n",
       "      <td> 1</td>\n",
       "      <td>  89</td>\n",
       "      <td> 66</td>\n",
       "      <td> 23</td>\n",
       "      <td>  94</td>\n",
       "      <td> 28.1</td>\n",
       "      <td> 0.167</td>\n",
       "      <td> 21</td>\n",
       "      <td> False</td>\n",
       "    </tr>\n",
       "    <tr>\n",
       "      <th>4</th>\n",
       "      <td> 0</td>\n",
       "      <td> 137</td>\n",
       "      <td> 40</td>\n",
       "      <td> 35</td>\n",
       "      <td> 168</td>\n",
       "      <td> 43.1</td>\n",
       "      <td> 2.288</td>\n",
       "      <td> 33</td>\n",
       "      <td>  True</td>\n",
       "    </tr>\n",
       "  </tbody>\n",
       "</table>\n",
       "</div>"
      ],
      "text/plain": [
       "   num_preg  glucose_conc  diastolic_bp  thickness  insulin   bmi  diab_pred  \\\n",
       "0         6           148            72         35        0  33.6      0.627   \n",
       "1         1            85            66         29        0  26.6      0.351   \n",
       "2         8           183            64          0        0  23.3      0.672   \n",
       "3         1            89            66         23       94  28.1      0.167   \n",
       "4         0           137            40         35      168  43.1      2.288   \n",
       "\n",
       "   age diabetes  \n",
       "0   50     True  \n",
       "1   31    False  \n",
       "2   32     True  \n",
       "3   21    False  \n",
       "4   33     True  "
      ]
     },
     "execution_count": 13,
     "metadata": {},
     "output_type": "execute_result"
    }
   ],
   "source": [
    "df.head()"
   ]
  },
  {
   "cell_type": "markdown",
   "metadata": {},
   "source": [
    "Change True to 1 and False to 0"
   ]
  },
  {
   "cell_type": "code",
   "execution_count": 14,
   "metadata": {
    "collapsed": false
   },
   "outputs": [],
   "source": [
    "diabetes_map = {True: 1, False: 0} # create dictionary"
   ]
  },
  {
   "cell_type": "code",
   "execution_count": 15,
   "metadata": {
    "collapsed": true
   },
   "outputs": [],
   "source": [
    "df['diabetes'] = df['diabetes'].map(diabetes_map) # uses pandas map function for molding data (true=1, false=0)"
   ]
  },
  {
   "cell_type": "code",
   "execution_count": 16,
   "metadata": {
    "collapsed": false
   },
   "outputs": [
    {
     "data": {
      "text/html": [
       "<div style=\"max-height:1000px;max-width:1500px;overflow:auto;\">\n",
       "<table border=\"1\" class=\"dataframe\">\n",
       "  <thead>\n",
       "    <tr style=\"text-align: right;\">\n",
       "      <th></th>\n",
       "      <th>num_preg</th>\n",
       "      <th>glucose_conc</th>\n",
       "      <th>diastolic_bp</th>\n",
       "      <th>thickness</th>\n",
       "      <th>insulin</th>\n",
       "      <th>bmi</th>\n",
       "      <th>diab_pred</th>\n",
       "      <th>age</th>\n",
       "      <th>diabetes</th>\n",
       "    </tr>\n",
       "  </thead>\n",
       "  <tbody>\n",
       "    <tr>\n",
       "      <th>0</th>\n",
       "      <td> 6</td>\n",
       "      <td> 148</td>\n",
       "      <td> 72</td>\n",
       "      <td> 35</td>\n",
       "      <td>   0</td>\n",
       "      <td> 33.6</td>\n",
       "      <td> 0.627</td>\n",
       "      <td> 50</td>\n",
       "      <td> 1</td>\n",
       "    </tr>\n",
       "    <tr>\n",
       "      <th>1</th>\n",
       "      <td> 1</td>\n",
       "      <td>  85</td>\n",
       "      <td> 66</td>\n",
       "      <td> 29</td>\n",
       "      <td>   0</td>\n",
       "      <td> 26.6</td>\n",
       "      <td> 0.351</td>\n",
       "      <td> 31</td>\n",
       "      <td> 0</td>\n",
       "    </tr>\n",
       "    <tr>\n",
       "      <th>2</th>\n",
       "      <td> 8</td>\n",
       "      <td> 183</td>\n",
       "      <td> 64</td>\n",
       "      <td>  0</td>\n",
       "      <td>   0</td>\n",
       "      <td> 23.3</td>\n",
       "      <td> 0.672</td>\n",
       "      <td> 32</td>\n",
       "      <td> 1</td>\n",
       "    </tr>\n",
       "    <tr>\n",
       "      <th>3</th>\n",
       "      <td> 1</td>\n",
       "      <td>  89</td>\n",
       "      <td> 66</td>\n",
       "      <td> 23</td>\n",
       "      <td>  94</td>\n",
       "      <td> 28.1</td>\n",
       "      <td> 0.167</td>\n",
       "      <td> 21</td>\n",
       "      <td> 0</td>\n",
       "    </tr>\n",
       "    <tr>\n",
       "      <th>4</th>\n",
       "      <td> 0</td>\n",
       "      <td> 137</td>\n",
       "      <td> 40</td>\n",
       "      <td> 35</td>\n",
       "      <td> 168</td>\n",
       "      <td> 43.1</td>\n",
       "      <td> 2.288</td>\n",
       "      <td> 33</td>\n",
       "      <td> 1</td>\n",
       "    </tr>\n",
       "  </tbody>\n",
       "</table>\n",
       "</div>"
      ],
      "text/plain": [
       "   num_preg  glucose_conc  diastolic_bp  thickness  insulin   bmi  diab_pred  \\\n",
       "0         6           148            72         35        0  33.6      0.627   \n",
       "1         1            85            66         29        0  26.6      0.351   \n",
       "2         8           183            64          0        0  23.3      0.672   \n",
       "3         1            89            66         23       94  28.1      0.167   \n",
       "4         0           137            40         35      168  43.1      2.288   \n",
       "\n",
       "   age  diabetes  \n",
       "0   50         1  \n",
       "1   31         0  \n",
       "2   32         1  \n",
       "3   21         0  \n",
       "4   33         1  "
      ]
     },
     "execution_count": 16,
     "metadata": {},
     "output_type": "execute_result"
    }
   ],
   "source": [
    "df.head()"
   ]
  },
  {
   "cell_type": "markdown",
   "metadata": {},
   "source": [
    "### Check True/False ratio"
   ]
  },
  {
   "cell_type": "code",
   "execution_count": 17,
   "metadata": {
    "collapsed": false
   },
   "outputs": [
    {
     "name": "stdout",
     "output_type": "stream",
     "text": [
      "Number of true cases: 268 (34.90%)\n",
      "Number of false cases: 500 (65.10%)\n"
     ]
    }
   ],
   "source": [
    "num_true = len(df.loc[df['diabetes'] == True])\n",
    "num_false = len(df.loc[df['diabetes'] == False])\n",
    "print(\"Number of true cases: {0} ({1:2.2f}%)\".format(num_true, (num_true / (num_true+num_false)) * 100))\n",
    "print(\"Number of false cases: {0} ({1:2.2f}%)\".format(num_false, (num_false / (num_true+num_false)) * 100))"
   ]
  },
  {
   "cell_type": "markdown",
   "metadata": {
    "collapsed": true
   },
   "source": [
    "# Training the Model"
   ]
  },
  {
   "cell_type": "markdown",
   "metadata": {},
   "source": [
    "### Splitting the data\n",
    "70% for training, 30% for testing"
   ]
  },
  {
   "cell_type": "code",
   "execution_count": 18,
   "metadata": {
    "collapsed": false
   },
   "outputs": [],
   "source": [
    "from sklearn.model_selection import train_test_split #model_selection is a new way to split the data"
   ]
  },
  {
   "cell_type": "code",
   "execution_count": 19,
   "metadata": {
    "collapsed": false
   },
   "outputs": [],
   "source": [
    "feature_col_names = ['num_preg','glucose_conc','diastolic_bp','thickness','insulin','bmi','diab_pred','age']\n",
    "predicted_class_names = ['diabetes']\n",
    "\n",
    "X = df[feature_col_names].values # predictor feature columns (8 x m)\n",
    "Y = df[predicted_class_names].values # predicated class (1=true, 0=false) column (1 x m)\n",
    "split_test_size = 0.30\n",
    "\n",
    "# random_state(could be any number) gurantess the split is always goint to be same when it splits the data again\n",
    "X_train, X_test, Y_train, Y_test = train_test_split(X,Y,test_size = split_test_size, random_state=42)  "
   ]
  },
  {
   "cell_type": "markdown",
   "metadata": {
    "collapsed": true
   },
   "source": [
    "We check to ensure we have the desired 70% train, 30% test split of the data"
   ]
  },
  {
   "cell_type": "code",
   "execution_count": 20,
   "metadata": {
    "collapsed": false
   },
   "outputs": [
    {
     "name": "stdout",
     "output_type": "stream",
     "text": [
      "69.92% in training set\n",
      "30.08% in test set\n"
     ]
    }
   ],
   "source": [
    "print(\"{0:0.2f}% in training set\".format((len(X_train) / len(df.index)) * 100))\n",
    "print(\"{0:0.2f}% in test set\".format((len(X_test) / len(df.index)) * 100))"
   ]
  },
  {
   "cell_type": "markdown",
   "metadata": {},
   "source": [
    "### Verifying predicted value was split correctly "
   ]
  },
  {
   "cell_type": "code",
   "execution_count": 21,
   "metadata": {
    "collapsed": false
   },
   "outputs": [
    {
     "name": "stdout",
     "output_type": "stream",
     "text": [
      "Original True: 268 (34.90%)\n",
      "Original False: 500 (65.10%)\n",
      "Training True: 188 (35.01%)\n",
      "Training False: 349 (64.99%)\n",
      "Test True: 80 (34.63%)\n",
      "Test False: 151 (65.37%)\n"
     ]
    }
   ],
   "source": [
    "print(\"Original True: {0} ({1:2.2f}%)\".format(len(df.loc[df['diabetes'] == 1]), (len(df.loc[df['diabetes'] == 1]) / len(df.index)) * 100))\n",
    "print(\"Original False: {0} ({1:2.2f}%)\".format(len(df.loc[df['diabetes'] == 0]), (len(df.loc[df['diabetes'] == 0]) / len(df.index)) * 100))\n",
    "\n",
    "print(\"Training True: {0} ({1:2.2f}%)\".format(len(Y_train[Y_train[:] == 1]), (len(Y_train[Y_train[:] == 1]) / len(Y_train)) * 100))\n",
    "print(\"Training False: {0} ({1:2.2f}%)\".format(len(Y_train[Y_train[:] == 0]), (len(Y_train[Y_train[:] == 0]) / len(Y_train)) * 100))\n",
    "\n",
    "print(\"Test True: {0} ({1:2.2f}%)\".format(len(Y_test[Y_test[:] == 1]), (len(Y_test[Y_test[:] == 1]) / len(Y_test)) * 100))\n",
    "print(\"Test False: {0} ({1:2.2f}%)\".format(len(Y_test[Y_test[:] == 0]), (len(Y_test[Y_test[:] == 0]) / len(Y_test)) * 100))"
   ]
  },
  {
   "cell_type": "markdown",
   "metadata": {},
   "source": [
    "## Post-split Data Preperation\n",
    "\n",
    "### Hidden missing values"
   ]
  },
  {
   "cell_type": "code",
   "execution_count": 22,
   "metadata": {
    "collapsed": false
   },
   "outputs": [
    {
     "data": {
      "text/html": [
       "<div style=\"max-height:1000px;max-width:1500px;overflow:auto;\">\n",
       "<table border=\"1\" class=\"dataframe\">\n",
       "  <thead>\n",
       "    <tr style=\"text-align: right;\">\n",
       "      <th></th>\n",
       "      <th>num_preg</th>\n",
       "      <th>glucose_conc</th>\n",
       "      <th>diastolic_bp</th>\n",
       "      <th>thickness</th>\n",
       "      <th>insulin</th>\n",
       "      <th>bmi</th>\n",
       "      <th>diab_pred</th>\n",
       "      <th>age</th>\n",
       "      <th>diabetes</th>\n",
       "    </tr>\n",
       "  </thead>\n",
       "  <tbody>\n",
       "    <tr>\n",
       "      <th>0</th>\n",
       "      <td> 6</td>\n",
       "      <td> 148</td>\n",
       "      <td> 72</td>\n",
       "      <td> 35</td>\n",
       "      <td>   0</td>\n",
       "      <td> 33.6</td>\n",
       "      <td> 0.627</td>\n",
       "      <td> 50</td>\n",
       "      <td> 1</td>\n",
       "    </tr>\n",
       "    <tr>\n",
       "      <th>1</th>\n",
       "      <td> 1</td>\n",
       "      <td>  85</td>\n",
       "      <td> 66</td>\n",
       "      <td> 29</td>\n",
       "      <td>   0</td>\n",
       "      <td> 26.6</td>\n",
       "      <td> 0.351</td>\n",
       "      <td> 31</td>\n",
       "      <td> 0</td>\n",
       "    </tr>\n",
       "    <tr>\n",
       "      <th>2</th>\n",
       "      <td> 8</td>\n",
       "      <td> 183</td>\n",
       "      <td> 64</td>\n",
       "      <td>  0</td>\n",
       "      <td>   0</td>\n",
       "      <td> 23.3</td>\n",
       "      <td> 0.672</td>\n",
       "      <td> 32</td>\n",
       "      <td> 1</td>\n",
       "    </tr>\n",
       "    <tr>\n",
       "      <th>3</th>\n",
       "      <td> 1</td>\n",
       "      <td>  89</td>\n",
       "      <td> 66</td>\n",
       "      <td> 23</td>\n",
       "      <td>  94</td>\n",
       "      <td> 28.1</td>\n",
       "      <td> 0.167</td>\n",
       "      <td> 21</td>\n",
       "      <td> 0</td>\n",
       "    </tr>\n",
       "    <tr>\n",
       "      <th>4</th>\n",
       "      <td> 0</td>\n",
       "      <td> 137</td>\n",
       "      <td> 40</td>\n",
       "      <td> 35</td>\n",
       "      <td> 168</td>\n",
       "      <td> 43.1</td>\n",
       "      <td> 2.288</td>\n",
       "      <td> 33</td>\n",
       "      <td> 1</td>\n",
       "    </tr>\n",
       "  </tbody>\n",
       "</table>\n",
       "</div>"
      ],
      "text/plain": [
       "   num_preg  glucose_conc  diastolic_bp  thickness  insulin   bmi  diab_pred  \\\n",
       "0         6           148            72         35        0  33.6      0.627   \n",
       "1         1            85            66         29        0  26.6      0.351   \n",
       "2         8           183            64          0        0  23.3      0.672   \n",
       "3         1            89            66         23       94  28.1      0.167   \n",
       "4         0           137            40         35      168  43.1      2.288   \n",
       "\n",
       "   age  diabetes  \n",
       "0   50         1  \n",
       "1   31         0  \n",
       "2   32         1  \n",
       "3   21         0  \n",
       "4   33         1  "
      ]
     },
     "execution_count": 22,
     "metadata": {},
     "output_type": "execute_result"
    }
   ],
   "source": [
    "df.head()"
   ]
  },
  {
   "cell_type": "markdown",
   "metadata": {},
   "source": [
    "Are these 0 values possible?\n",
    "\n",
    "How many rows have unexpected 0 values?"
   ]
  },
  {
   "cell_type": "code",
   "execution_count": 23,
   "metadata": {
    "collapsed": false,
    "scrolled": true
   },
   "outputs": [
    {
     "name": "stdout",
     "output_type": "stream",
     "text": [
      "# rows in datafram 768\n",
      "# rows missing glucose_conc: 5\n",
      "# rows missing diastolic_bp: 35\n",
      "# rows missing thickness: 227\n",
      "# rows missing insulin: 374\n",
      "# rows missing bmi: 11\n",
      "# rows missing diab_pred: 0\n",
      "# rows missing age: 0\n"
     ]
    }
   ],
   "source": [
    "print(\"# rows in datafram {0}\".format(len(df)))\n",
    "print(\"# rows missing glucose_conc: {0}\".format(len(df.loc[df['glucose_conc'] == 0])))\n",
    "print(\"# rows missing diastolic_bp: {0}\".format(len(df.loc[df['diastolic_bp'] == 0])))\n",
    "print(\"# rows missing thickness: {0}\".format(len(df.loc[df['thickness'] == 0])))\n",
    "print(\"# rows missing insulin: {0}\".format(len(df.loc[df['insulin'] == 0])))\n",
    "print(\"# rows missing bmi: {0}\".format(len(df.loc[df['bmi'] == 0])))\n",
    "print(\"# rows missing diab_pred: {0}\".format(len(df.loc[df['diab_pred'] == 0])))\n",
    "print(\"# rows missing age: {0}\".format(len(df.loc[df['age'] == 0])))"
   ]
  },
  {
   "cell_type": "markdown",
   "metadata": {},
   "source": [
    "*We usually need a domain expert to fix missing values!!!*"
   ]
  },
  {
   "cell_type": "markdown",
   "metadata": {},
   "source": [
    "#### Missing Data\n",
    "    Common Problem\n",
    "    Optioins\n",
    "        - Ignore\n",
    "        - Drop observations (rows)\n",
    "        - Replace values (Impute)\n",
    "    Data Numbers\n",
    "        - 768 rows\n",
    "        - 374 missing insuling values\n",
    "        - Can we ignore/delete almost 50% of data?    "
   ]
  },
  {
   "cell_type": "markdown",
   "metadata": {},
   "source": [
    "#### Imputing Options\n",
    "    - Replace with mean, median\n",
    "    - Replace with expert knowledge derived value (This is a BETTER option)"
   ]
  },
  {
   "cell_type": "markdown",
   "metadata": {},
   "source": [
    "#### Impute with the MEAN ( Average)"
   ]
  },
  {
   "cell_type": "code",
   "execution_count": 24,
   "metadata": {
    "collapsed": true
   },
   "outputs": [],
   "source": [
    "from sklearn.preprocessing import Imputer\n",
    "\n",
    "# Impute with the mean all 0 readings\n",
    "fill_0 = Imputer(missing_values=0, strategy=\"mean\", axis=0) # axis=0 which is column\n",
    "\n",
    "X_train = fill_0.fit_transform(X_train)\n",
    "X_test = fill_0.fit_transform(X_test)"
   ]
  },
  {
   "cell_type": "markdown",
   "metadata": {},
   "source": [
    "### Training Initial Algorithm - Naive Bayes"
   ]
  },
  {
   "cell_type": "code",
   "execution_count": 25,
   "metadata": {
    "collapsed": false
   },
   "outputs": [
    {
     "data": {
      "text/plain": [
       "GaussianNB(priors=None)"
      ]
     },
     "execution_count": 25,
     "metadata": {},
     "output_type": "execute_result"
    }
   ],
   "source": [
    "from sklearn.naive_bayes import GaussianNB\n",
    "\n",
    "nb_model = GaussianNB()\n",
    "\n",
    "nb_model.fit(X_train, Y_train.ravel()) # Y_train.ravel() convert 2d to 1d array"
   ]
  },
  {
   "cell_type": "markdown",
   "metadata": {},
   "source": [
    "#### Performance on Training Data"
   ]
  },
  {
   "cell_type": "code",
   "execution_count": 29,
   "metadata": {
    "collapsed": false
   },
   "outputs": [
    {
     "name": "stdout",
     "output_type": "stream",
     "text": [
      "Accuracy: 0.7542\n"
     ]
    }
   ],
   "source": [
    "# predict values using the training data\n",
    "nb_predict_train = nb_model.predict(X_train)\n",
    "\n",
    "# import the performance metrics library\n",
    "from sklearn import metrics\n",
    "\n",
    "# Accuracy\n",
    "print(\"Accuracy: {0:.4f}\".format(metrics.accuracy_score(Y_train, nb_predict_train)))"
   ]
  },
  {
   "cell_type": "markdown",
   "metadata": {},
   "source": [
    "#### Performance on Test Data"
   ]
  },
  {
   "cell_type": "code",
   "execution_count": 31,
   "metadata": {
    "collapsed": false
   },
   "outputs": [
    {
     "name": "stdout",
     "output_type": "stream",
     "text": [
      "Accuracy: 0.7359\n"
     ]
    }
   ],
   "source": [
    "# predict values using the test data\n",
    "nb_predict_test = nb_model.predict(X_test)\n",
    "\n",
    "# Accuracy\n",
    "print(\"Accuracy: {0:.4f}\".format(metrics.accuracy_score(Y_test, nb_predict_test)))"
   ]
  },
  {
   "cell_type": "markdown",
   "metadata": {},
   "source": [
    "#### Metrics "
   ]
  },
  {
   "cell_type": "code",
   "execution_count": 39,
   "metadata": {
    "collapsed": false
   },
   "outputs": [
    {
     "name": "stdout",
     "output_type": "stream",
     "text": [
      "Confusion Matrix\n",
      "Test data size: 231\n",
      "[[ 52  28]\n",
      " [ 33 118]]\n"
     ]
    }
   ],
   "source": [
    "print(\"Confusion Matrix\")\n",
    "print(\"Test data size: {0}\".format(len(Y_test)))\n",
    "# Note the use of labels for set 1 = True to Upper left and 0 = False to lower rigth\n",
    "print(\"{0}\".format(metrics.confusion_matrix(Y_test, nb_predict_test, labels=[1,0])))"
   ]
  },
  {
   "cell_type": "markdown",
   "metadata": {},
   "source": [
    "For confusion matrix\n",
    "    - left column is predicted TRUE\n",
    "    - right column is predicted FALSE\n",
    "    - rows are actual values \n",
    "        - the top row is actual TRUE\n",
    "        - the bottom row is actual FALSE\n",
    "\n",
    "    [[TP, FP]\n",
    "     [FN, TN]]\n",
    "     - TP(true, positive): *actual diabetes, and predicted to be diabetes\n",
    "     - FP(false, positive): actual not diabetes, and predicted to be diabetes\n",
    "     - FN(false, negative): actual diabetes, and predicted to be not diabetes  \n",
    "     - TN(true, negative): *actual not diabetes, and predicted to be not diabetes\n",
    "\n",
    "##### Perfect Classifier\n",
    "    [[80,0]\n",
    "     [0,151]]\n",
    "As I can see, my classifier is far from perfect"
   ]
  },
  {
   "cell_type": "code",
   "execution_count": 38,
   "metadata": {
    "collapsed": false
   },
   "outputs": [
    {
     "name": "stdout",
     "output_type": "stream",
     "text": [
      "\n",
      "Classification Report\n",
      "             precision    recall  f1-score   support\n",
      "\n",
      "          1       0.61      0.65      0.63        80\n",
      "          0       0.81      0.78      0.79       151\n",
      "\n",
      "avg / total       0.74      0.74      0.74       231\n",
      "\n"
     ]
    }
   ],
   "source": [
    "print(\"\\nClassification Report\")\n",
    "print(metrics.classification_report(Y_test, nb_predict_test, labels=[1,0]))"
   ]
  },
  {
   "cell_type": "markdown",
   "metadata": {},
   "source": [
    "|Column Names| Description|Comment|\n",
    "|------------|------------|-------|\n",
    "|recall | class one or diabetes| True Positive rate and sensitivity. It is how well the model is predicting diabetes.Mathematically Recall = TP/ (TP+FN)|\n",
    "|precision| positive predictor value|This is how often the patient actually had diabetes. Mathematically Precision = TP/(TP+FP). We need to increase this value that would means a fewer false positives|"
   ]
  },
  {
   "cell_type": "markdown",
   "metadata": {},
   "source": [
    "## Performance Improvement Options\n",
    "    - Adjust current algorithms (hyperparameters, Unfotunatly, Naive Bayes has no hyperparameters)\n",
    "    - Get more data or improve data (We dont have more data)\n",
    "    - Improve training\n",
    "    - Switch Algorithms\n",
    "   "
   ]
  },
  {
   "cell_type": "markdown",
   "metadata": {},
   "source": [
    "### Random Forest (Switch Algorithms) "
   ]
  },
  {
   "cell_type": "code",
   "execution_count": 42,
   "metadata": {
    "collapsed": false
   },
   "outputs": [
    {
     "data": {
      "text/plain": [
       "RandomForestClassifier(bootstrap=True, class_weight=None, criterion='gini',\n",
       "            max_depth=None, max_features='auto', max_leaf_nodes=None,\n",
       "            min_impurity_split=1e-07, min_samples_leaf=1,\n",
       "            min_samples_split=2, min_weight_fraction_leaf=0.0,\n",
       "            n_estimators=10, n_jobs=1, oob_score=False, random_state=42,\n",
       "            verbose=0, warm_start=False)"
      ]
     },
     "execution_count": 42,
     "metadata": {},
     "output_type": "execute_result"
    }
   ],
   "source": [
    "from sklearn.ensemble import RandomForestClassifier\n",
    "rf_model = RandomForestClassifier(random_state=42)   # Create random forest object\n",
    "rf_model.fit(X_train, Y_train.ravel())"
   ]
  },
  {
   "cell_type": "markdown",
   "metadata": {},
   "source": [
    "#### Predict Training Data"
   ]
  },
  {
   "cell_type": "code",
   "execution_count": 51,
   "metadata": {
    "collapsed": false
   },
   "outputs": [
    {
     "name": "stdout",
     "output_type": "stream",
     "text": [
      "Accuracy score: 0.9870\n"
     ]
    }
   ],
   "source": [
    "rf_predict_train = rf_model.predict(X_train)\n",
    "\n",
    "# training metrics\n",
    "print(\"Accuracy score: {0:.4f}\".format(metrics.accuracy_score(Y_train, rf_predict_train)))"
   ]
  },
  {
   "cell_type": "markdown",
   "metadata": {},
   "source": [
    "####  Predict Test Data"
   ]
  },
  {
   "cell_type": "code",
   "execution_count": 50,
   "metadata": {
    "collapsed": false
   },
   "outputs": [
    {
     "name": "stdout",
     "output_type": "stream",
     "text": [
      "Accuracy score: 0.7100\n"
     ]
    }
   ],
   "source": [
    "rf_predict_test = rf_model.predict(X_test)\n",
    "\n",
    "# test metrics\n",
    "print(\"Accuracy score: {0:.4f}\".format(metrics.accuracy_score(Y_test,rf_predict_test)))"
   ]
  },
  {
   "cell_type": "code",
   "execution_count": 55,
   "metadata": {
    "collapsed": false
   },
   "outputs": [
    {
     "name": "stdout",
     "output_type": "stream",
     "text": [
      "Confussion Matrix\n",
      "[[ 43  37]\n",
      " [ 30 121]]\n",
      "\n",
      "Classification Report\n",
      "             precision    recall  f1-score   support\n",
      "\n",
      "          1       0.59      0.54      0.56        80\n",
      "          0       0.77      0.80      0.78       151\n",
      "\n",
      "avg / total       0.70      0.71      0.71       231\n",
      "\n"
     ]
    }
   ],
   "source": [
    "print(\"Confussion Matrix\")\n",
    "print(\"{0}\".format(metrics.confusion_matrix(Y_test, rf_predict_test, labels=[1,0])))\n",
    "print(\"\\nClassification Report\")\n",
    "print(\"{0}\".format(metrics.classification_report(Y_test, rf_predict_test, labels=[1,0])))"
   ]
  },
  {
   "cell_type": "markdown",
   "metadata": {},
   "source": [
    "Whenever I see the difference this BIG (98% - 71%), I am seeing a classic sign of an algorithm that is overfitting the training data. That is model has learnt the training data too WELL."
   ]
  },
  {
   "cell_type": "markdown",
   "metadata": {},
   "source": [
    "#### Fixing the overfitting\n",
    "\n",
    "    - Regularization hyperparameter gives developers ability to control the precision of the algorithm \n",
    "    - Cross Validation\n",
    "    \n",
    "    The both of these methods can be used at the same time\n",
    "    \n",
    "    - Bias - variance trade-off"
   ]
  },
  {
   "cell_type": "markdown",
   "metadata": {},
   "source": [
    "#### Logistic Regression"
   ]
  },
  {
   "cell_type": "code",
   "execution_count": 72,
   "metadata": {
    "collapsed": false
   },
   "outputs": [
    {
     "name": "stdout",
     "output_type": "stream",
     "text": [
      "Accuracy: 0.7446\n",
      "[[ 44  36]\n",
      " [ 23 128]]\n",
      "Classification Report\n",
      "             precision    recall  f1-score   support\n",
      "\n",
      "          1       0.66      0.55      0.60        80\n",
      "          0       0.78      0.85      0.81       151\n",
      "\n",
      "avg / total       0.74      0.74      0.74       231\n",
      "\n"
     ]
    }
   ],
   "source": [
    "from sklearn.linear_model import LogisticRegression\n",
    "\n",
    "lr_model = LogisticRegression(C=0.7, random_state=42)\n",
    "lr_model.fit(X_train, Y_train.ravel())\n",
    "lr_predict_test = lr_model.predict(X_test)\n",
    "\n",
    "# test metrics\n",
    "print(\"Accuracy: {0:.4f}\".format(metrics.accuracy_score(Y_test, lr_predict_test)))\n",
    "print(metrics.confusion_matrix(Y_test, lr_predict_test, labels=[1,0]))\n",
    "print(\"Classification Report\")\n",
    "print(metrics.classification_report(Y_test, lr_predict_test, labels=[1,0]))"
   ]
  },
  {
   "cell_type": "markdown",
   "metadata": {},
   "source": [
    "Setting Regularization Parameter"
   ]
  },
  {
   "cell_type": "code",
   "execution_count": 76,
   "metadata": {
    "collapsed": false
   },
   "outputs": [
    {
     "name": "stdout",
     "output_type": "stream",
     "text": [
      "1st max value of 0.613 occured at 1.400\n"
     ]
    },
    {
     "data": {
      "text/plain": [
       "<matplotlib.text.Text at 0x7f825a4f56d8>"
      ]
     },
     "execution_count": 76,
     "metadata": {},
     "output_type": "execute_result"
    },
    {
     "data": {
      "image/png": "[encoded data removed]",
      "text/plain": [
       "<matplotlib.figure.Figure at 0x7f825a08b9e8>"
      ]
     },
     "metadata": {},
     "output_type": "display_data"
    }
   ],
   "source": [
    "# C values is a Regularization Parameter\n",
    "C_start = 0.1\n",
    "C_end = 5.0\n",
    "C_inc = 0.1\n",
    "\n",
    "C_values, recall_scores = [], []\n",
    "\n",
    "C_val = C_start\n",
    "best_recall_score = 0\n",
    "while (C_val < C_end):\n",
    "    C_values.append(C_val)\n",
    "    lr_model_loop = LogisticRegression(C=C_val, random_state=42)\n",
    "    lr_model_loop.fit(X_train, Y_train.ravel())                  # training the algorithm\n",
    "    lr_predict_test_loop = lr_model_loop.predict(X_test)         # predicting agains test data\n",
    "    recall_score = metrics.recall_score(Y_test, lr_predict_test_loop)\n",
    "    recall_scores.append(recall_score)\n",
    "    if (recall_score > best_recall_score):\n",
    "        best_recall_score = recall_score\n",
    "        best_lr_predict_test = lr_predict_test_loop\n",
    "    \n",
    "    C_val = C_val + C_inc\n",
    "    \n",
    "best_score_C_val = C_values[recall_scores.index(best_recall_score)]\n",
    "print(\"1st max value of {0:.3f} occured at {1:.3f}\".format(best_recall_score, best_score_C_val))\n",
    "\n",
    "%matplotlib inline\n",
    "plt.plot(C_values, recall_scores, \"-\")\n",
    "plt.xlabel(\"C values\")\n",
    "plt.ylabel(\"Recal Scores\")"
   ]
  },
  {
   "cell_type": "markdown",
   "metadata": {},
   "source": [
    "!!!We have more non-diabetes results than diabetes results. Perhaps this imbalance is causing an issue. "
   ]
  },
  {
   "cell_type": "markdown",
   "metadata": {},
   "source": [
    "#### Unbalanced Classes\n",
    "More of one class the the others\n",
    "Our Data 65% no diabetes, 35% diabetes \n",
    "###### Can be causing biases estimation yieding poor prediction results"
   ]
  },
  {
   "cell_type": "markdown",
   "metadata": {},
   "source": [
    "#### Logistic regression with class_weight = \"balanced\""
   ]
  },
  {
   "cell_type": "code",
   "execution_count": 77,
   "metadata": {
    "collapsed": false
   },
   "outputs": [
    {
     "name": "stdout",
     "output_type": "stream",
     "text": [
      "1st max value of 0.738 occured at 0.300\n"
     ]
    },
    {
     "data": {
      "text/plain": [
       "<matplotlib.text.Text at 0x7f825a511c88>"
      ]
     },
     "execution_count": 77,
     "metadata": {},
     "output_type": "execute_result"
    },
    {
     "data": {
      "image/png": "[encoded data removed]",
      "text/plain": [
       "<matplotlib.figure.Figure at 0x7f825a073cf8>"
      ]
     },
     "metadata": {},
     "output_type": "display_data"
    }
   ],
   "source": [
    "# C values is a Regularization Parameter\n",
    "C_start = 0.1\n",
    "C_end = 5.0\n",
    "C_inc = 0.1\n",
    "\n",
    "C_values, recall_scores = [], []\n",
    "\n",
    "C_val = C_start\n",
    "best_recall_score = 0\n",
    "while (C_val < C_end):\n",
    "    C_values.append(C_val)\n",
    "    lr_model_loop = LogisticRegression(C=C_val, class_weight=\"balanced\", random_state=42) # class_weight=\"balanced\"\n",
    "    lr_model_loop.fit(X_train, Y_train.ravel())                  # training the algorithm\n",
    "    lr_predict_test_loop = lr_model_loop.predict(X_test)         # predicting agains test data\n",
    "    recall_score = metrics.recall_score(Y_test, lr_predict_test_loop)\n",
    "    recall_scores.append(recall_score)\n",
    "    if (recall_score > best_recall_score):\n",
    "        best_recall_score = recall_score\n",
    "        best_lr_predict_test = lr_predict_test_loop\n",
    "    \n",
    "    C_val = C_val + C_inc\n",
    "    \n",
    "best_score_C_val = C_values[recall_scores.index(best_recall_score)]\n",
    "print(\"1st max value of {0:.3f} occured at {1:.3f}\".format(best_recall_score, best_score_C_val))\n",
    "\n",
    "%matplotlib inline\n",
    "plt.plot(C_values, recall_scores, \"-\")\n",
    "plt.xlabel(\"C values\")\n",
    "plt.ylabel(\"Recal Scores\")"
   ]
  },
  {
   "cell_type": "code",
   "execution_count": 88,
   "metadata": {
    "collapsed": false
   },
   "outputs": [
    {
     "name": "stdout",
     "output_type": "stream",
     "text": [
      "Accuracy: 0.7143\n",
      "Confussion Matrix\n",
      "[[ 59  21]\n",
      " [ 45 106]]\n",
      "\n",
      "Classification Report\n",
      "             precision    recall  f1-score   support\n",
      "\n",
      "          1       0.57      0.74      0.64        80\n",
      "          0       0.83      0.70      0.76       151\n",
      "\n",
      "avg / total       0.74      0.71      0.72       231\n",
      "\n",
      "0.7375\n"
     ]
    }
   ],
   "source": [
    "from sklearn.linear_model import LogisticRegression\n",
    "lr_model = LogisticRegression(C=best_score_C_val, class_weight=\"balanced\", random_state=42)\n",
    "lr_model.fit(X_train, Y_train.ravel())\n",
    "lr_predict_test = lr_model.predict(X_test)\n",
    "\n",
    "# test metrics\n",
    "print(\"Accuracy: {0:.4f}\".format(metrics.accuracy_score(Y_test, lr_predict_test)))\n",
    "print(\"Confussion Matrix\")\n",
    "print(metrics.confusion_matrix(Y_test, lr_predict_test, labels=[1,0]))\n",
    "print(\"\")\n",
    "print(\"Classification Report\")\n",
    "print(metrics.classification_report(Y_test, lr_predict_test, labels=[1,0]))\n",
    "print(metrics.recall_score(Y_test, lr_predict_test))"
   ]
  },
  {
   "cell_type": "markdown",
   "metadata": {},
   "source": [
    "In above approach, I am trying to fit my lr_model to test data. \n",
    "I have tested the lr_model agains the test data which is one set of data. \n",
    "What will happen if I test lr_model against another set of data?\n",
    "It may not perform good b/c \"LOOK 1st sentence\".\n",
    "In order to fix this problem, we can split the whole data into 3 sections. \n",
    "1. Training   (50%)\n",
    "2. Validation (25%)\n",
    "3. Test       (25%)\n",
    "However, I don't have a lot of data."
   ]
  },
  {
   "cell_type": "markdown",
   "metadata": {},
   "source": [
    "### Cross Validation can do some much more then fixing the OVERFITTING"
   ]
  },
  {
   "cell_type": "markdown",
   "metadata": {},
   "source": [
    "Tuning Hyperparameters with Cross Validation (K-fold)\n",
    "    - For each Fold\n",
    "        Determine the best hyperparameter value\n",
    "    - Next, Set model hyperparamter value to average best\n",
    "    \n",
    "    There is a better which I can use k-fold Cross Validation.\n",
    "    K-fold Cross Validation\n",
    "        + means a validtion set\n",
    "        |. . . . . . . . . . . .|\n",
    "        |+|.|.|.|.|.|.|.|.|.|.|.|\n",
    "        |.|+|.|.|.|.|.|.|.|.|.|.|\n",
    "        |.|.|+|.|.|.|.|.|.|.|.|.|\n",
    "        |.|.|.|+|.|.|.|.|.|.|.|.|\n",
    "        ....\n",
    "        |.|.|.|.|.|.|.|.|.|.|.|+|\n",
    "    "
   ]
  },
  {
   "cell_type": "markdown",
   "metadata": {},
   "source": [
    "###  LogisticRegressionCV"
   ]
  },
  {
   "cell_type": "code",
   "execution_count": 138,
   "metadata": {
    "collapsed": false
   },
   "outputs": [
    {
     "data": {
      "text/plain": [
       "LogisticRegressionCV(Cs=3, class_weight='balanced', cv=5, dual=False,\n",
       "           fit_intercept=True, intercept_scaling=1.0, max_iter=100,\n",
       "           multi_class='ovr', n_jobs=-1, penalty='l2', random_state=42,\n",
       "           refit=True, scoring=None, solver='lbfgs', tol=0.0001, verbose=0)"
      ]
     },
     "execution_count": 138,
     "metadata": {},
     "output_type": "execute_result"
    }
   ],
   "source": [
    "from sklearn.linear_model import LogisticRegressionCV\n",
    "# n_jobs=-1: to use the all cores on our system\n",
    "# cv=10: nubmer of folds to 10\n",
    "# Cs=3: Documentation says that setting it to integer value defines the number of values it will try, \n",
    "#       trying to find the best value for the REGULARIZATION PARAMETER for each fold\n",
    "\n",
    "lr_cv_model = LogisticRegressionCV(n_jobs=-1, random_state=42, Cs=3, cv=5, refit=True, class_weight=\"balanced\")\n",
    "lr_cv_model.fit(X_train, Y_train.ravel())\n"
   ]
  },
  {
   "cell_type": "markdown",
   "metadata": {},
   "source": [
    "#### Predict on Test Data"
   ]
  },
  {
   "cell_type": "code",
   "execution_count": 139,
   "metadata": {
    "collapsed": false,
    "scrolled": true
   },
   "outputs": [
    {
     "name": "stdout",
     "output_type": "stream",
     "text": [
      "Accuracy: 0.7013\n",
      "Confussion Matrix\n",
      "[[ 53  27]\n",
      " [ 42 109]]\n",
      "\n",
      "Classification Report\n",
      "             precision    recall  f1-score   support\n",
      "\n",
      "          1       0.56      0.66      0.61        80\n",
      "          0       0.80      0.72      0.76       151\n",
      "\n",
      "avg / total       0.72      0.70      0.71       231\n",
      "\n",
      "0.6625\n"
     ]
    }
   ],
   "source": [
    "lr_cv_predict_test = lr_cv_model.predict(X_test)\n",
    "\n",
    "# test metrics \n",
    "print(\"Accuracy: {0:.4f}\".format(metrics.accuracy_score(Y_test, lr_cv_predict_test)))\n",
    "print(\"Confussion Matrix\")\n",
    "print(metrics.confusion_matrix(Y_test, lr_cv_predict_test, labels=[1,0]))\n",
    "print(\"\")\n",
    "print(\"Classification Report\")\n",
    "print(metrics.classification_report(Y_test, lr_cv_predict_test, labels=[1,0]))\n",
    "print(metrics.recall_score(Y_test, lr_cv_predict_test, labels=[1,0]))"
   ]
  },
  {
   "cell_type": "markdown",
   "metadata": {},
   "source": [
    "* My recall score is not quite what we achieved by tunning the score against the test data \n",
    "but by using Cross Validation, I will likely score better on real world data. \n",
    "* Also remember that with these essembel algorithm, there are a lot of parameters that we can adjust, \n",
    "and some are quite powerfull"
   ]
  },
  {
   "cell_type": "markdown",
   "metadata": {},
   "source": [
    "# Genius is one percent inspiration and ninty nine percent perspiration\n",
    "# Thomas A.Edison"
   ]
  },
  {
   "cell_type": "code",
   "execution_count": null,
   "metadata": {
    "collapsed": true
   },
   "outputs": [],
   "source": []
  }
 ],
 "metadata": {
  "kernelspec": {
   "display_name": "Python 3",
   "language": "python",
   "name": "python3"
  },
  "language_info": {
   "codemirror_mode": {
    "name": "ipython",
    "version": 3
   },
   "file_extension": ".py",
   "mimetype": "text/x-python",
   "name": "python",
   "nbconvert_exporter": "python",
   "pygments_lexer": "ipython3",
   "version": "3.4.2"
  }
 },
 "nbformat": 4,
 "nbformat_minor": 2
}
