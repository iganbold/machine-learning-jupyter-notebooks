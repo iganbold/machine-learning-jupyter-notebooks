{
 "cells": [
  {
   "cell_type": "markdown",
   "metadata": {
    "collapsed": false
   },
   "source": [
    "# Predicting Diabetes"
   ]
  },
  {
   "cell_type": "markdown",
   "metadata": {},
   "source": [
    "## Import libraries"
   ]
  },
  {
   "cell_type": "code",
   "execution_count": 6,
   "metadata": {
    "collapsed": true
   },
   "outputs": [],
   "source": [
    "import pandas as pd               #panda is a data frame library\n",
    "import matplotlib.pyplot as plt   #mathplotlib.pyplot plots data\n",
    "import numpy as np                #numpy provides N-dim object support\n",
    "\n",
    "#do ploting inline instead of in a seperate window\n",
    "%matplotlib inline"
   ]
  },
  {
   "cell_type": "code",
   "execution_count": 25,
   "metadata": {
    "collapsed": true
   },
   "outputs": [],
   "source": [
    "df = pd.read_csv(\"./data/pima-data.csv\")  # load pima data. Adjust path as necessary"
   ]
  },
  {
   "cell_type": "code",
   "execution_count": 10,
   "metadata": {
    "collapsed": false
   },
   "outputs": [
    {
     "data": {
      "text/plain": [
       "(768, 10)"
      ]
     },
     "execution_count": 10,
     "metadata": {},
     "output_type": "execute_result"
    }
   ],
   "source": [
    "df.shape # shows in (rows, columns)"
   ]
  },
  {
   "cell_type": "code",
   "execution_count": 12,
   "metadata": {
    "collapsed": false
   },
   "outputs": [
    {
     "data": {
      "text/html": [
       "<div style=\"max-height:1000px;max-width:1500px;overflow:auto;\">\n",
       "<table border=\"1\" class=\"dataframe\">\n",
       "  <thead>\n",
       "    <tr style=\"text-align: right;\">\n",
       "      <th></th>\n",
       "      <th>num_preg</th>\n",
       "      <th>glucose_conc</th>\n",
       "      <th>diastolic_bp</th>\n",
       "      <th>thickness</th>\n",
       "      <th>insulin</th>\n",
       "      <th>bmi</th>\n",
       "      <th>diab_pred</th>\n",
       "      <th>age</th>\n",
       "      <th>skin</th>\n",
       "      <th>diabetes</th>\n",
       "    </tr>\n",
       "  </thead>\n",
       "  <tbody>\n",
       "    <tr>\n",
       "      <th>0</th>\n",
       "      <td> 6</td>\n",
       "      <td> 148</td>\n",
       "      <td> 72</td>\n",
       "      <td> 35</td>\n",
       "      <td>   0</td>\n",
       "      <td> 33.6</td>\n",
       "      <td> 0.627</td>\n",
       "      <td> 50</td>\n",
       "      <td> 1.3790</td>\n",
       "      <td>  True</td>\n",
       "    </tr>\n",
       "    <tr>\n",
       "      <th>1</th>\n",
       "      <td> 1</td>\n",
       "      <td>  85</td>\n",
       "      <td> 66</td>\n",
       "      <td> 29</td>\n",
       "      <td>   0</td>\n",
       "      <td> 26.6</td>\n",
       "      <td> 0.351</td>\n",
       "      <td> 31</td>\n",
       "      <td> 1.1426</td>\n",
       "      <td> False</td>\n",
       "    </tr>\n",
       "    <tr>\n",
       "      <th>2</th>\n",
       "      <td> 8</td>\n",
       "      <td> 183</td>\n",
       "      <td> 64</td>\n",
       "      <td>  0</td>\n",
       "      <td>   0</td>\n",
       "      <td> 23.3</td>\n",
       "      <td> 0.672</td>\n",
       "      <td> 32</td>\n",
       "      <td> 0.0000</td>\n",
       "      <td>  True</td>\n",
       "    </tr>\n",
       "    <tr>\n",
       "      <th>3</th>\n",
       "      <td> 1</td>\n",
       "      <td>  89</td>\n",
       "      <td> 66</td>\n",
       "      <td> 23</td>\n",
       "      <td>  94</td>\n",
       "      <td> 28.1</td>\n",
       "      <td> 0.167</td>\n",
       "      <td> 21</td>\n",
       "      <td> 0.9062</td>\n",
       "      <td> False</td>\n",
       "    </tr>\n",
       "    <tr>\n",
       "      <th>4</th>\n",
       "      <td> 0</td>\n",
       "      <td> 137</td>\n",
       "      <td> 40</td>\n",
       "      <td> 35</td>\n",
       "      <td> 168</td>\n",
       "      <td> 43.1</td>\n",
       "      <td> 2.288</td>\n",
       "      <td> 33</td>\n",
       "      <td> 1.3790</td>\n",
       "      <td>  True</td>\n",
       "    </tr>\n",
       "  </tbody>\n",
       "</table>\n",
       "</div>"
      ],
      "text/plain": [
       "   num_preg  glucose_conc  diastolic_bp  thickness  insulin   bmi  diab_pred  \\\n",
       "0         6           148            72         35        0  33.6      0.627   \n",
       "1         1            85            66         29        0  26.6      0.351   \n",
       "2         8           183            64          0        0  23.3      0.672   \n",
       "3         1            89            66         23       94  28.1      0.167   \n",
       "4         0           137            40         35      168  43.1      2.288   \n",
       "\n",
       "   age    skin diabetes  \n",
       "0   50  1.3790     True  \n",
       "1   31  1.1426    False  \n",
       "2   32  0.0000     True  \n",
       "3   21  0.9062    False  \n",
       "4   33  1.3790     True  "
      ]
     },
     "execution_count": 12,
     "metadata": {},
     "output_type": "execute_result"
    }
   ],
   "source": [
    "df.head(5) # shows first 5 rows"
   ]
  },
  {
   "cell_type": "code",
   "execution_count": 13,
   "metadata": {
    "collapsed": false,
    "scrolled": true
   },
   "outputs": [
    {
     "data": {
      "text/html": [
       "<div style=\"max-height:1000px;max-width:1500px;overflow:auto;\">\n",
       "<table border=\"1\" class=\"dataframe\">\n",
       "  <thead>\n",
       "    <tr style=\"text-align: right;\">\n",
       "      <th></th>\n",
       "      <th>num_preg</th>\n",
       "      <th>glucose_conc</th>\n",
       "      <th>diastolic_bp</th>\n",
       "      <th>thickness</th>\n",
       "      <th>insulin</th>\n",
       "      <th>bmi</th>\n",
       "      <th>diab_pred</th>\n",
       "      <th>age</th>\n",
       "      <th>skin</th>\n",
       "      <th>diabetes</th>\n",
       "    </tr>\n",
       "  </thead>\n",
       "  <tbody>\n",
       "    <tr>\n",
       "      <th>763</th>\n",
       "      <td> 10</td>\n",
       "      <td> 101</td>\n",
       "      <td> 76</td>\n",
       "      <td> 48</td>\n",
       "      <td> 180</td>\n",
       "      <td> 32.9</td>\n",
       "      <td> 0.171</td>\n",
       "      <td> 63</td>\n",
       "      <td> 1.8912</td>\n",
       "      <td> False</td>\n",
       "    </tr>\n",
       "    <tr>\n",
       "      <th>764</th>\n",
       "      <td>  2</td>\n",
       "      <td> 122</td>\n",
       "      <td> 70</td>\n",
       "      <td> 27</td>\n",
       "      <td>   0</td>\n",
       "      <td> 36.8</td>\n",
       "      <td> 0.340</td>\n",
       "      <td> 27</td>\n",
       "      <td> 1.0638</td>\n",
       "      <td> False</td>\n",
       "    </tr>\n",
       "    <tr>\n",
       "      <th>765</th>\n",
       "      <td>  5</td>\n",
       "      <td> 121</td>\n",
       "      <td> 72</td>\n",
       "      <td> 23</td>\n",
       "      <td> 112</td>\n",
       "      <td> 26.2</td>\n",
       "      <td> 0.245</td>\n",
       "      <td> 30</td>\n",
       "      <td> 0.9062</td>\n",
       "      <td> False</td>\n",
       "    </tr>\n",
       "    <tr>\n",
       "      <th>766</th>\n",
       "      <td>  1</td>\n",
       "      <td> 126</td>\n",
       "      <td> 60</td>\n",
       "      <td>  0</td>\n",
       "      <td>   0</td>\n",
       "      <td> 30.1</td>\n",
       "      <td> 0.349</td>\n",
       "      <td> 47</td>\n",
       "      <td> 0.0000</td>\n",
       "      <td>  True</td>\n",
       "    </tr>\n",
       "    <tr>\n",
       "      <th>767</th>\n",
       "      <td>  1</td>\n",
       "      <td>  93</td>\n",
       "      <td> 70</td>\n",
       "      <td> 31</td>\n",
       "      <td>   0</td>\n",
       "      <td> 30.4</td>\n",
       "      <td> 0.315</td>\n",
       "      <td> 23</td>\n",
       "      <td> 1.2214</td>\n",
       "      <td> False</td>\n",
       "    </tr>\n",
       "  </tbody>\n",
       "</table>\n",
       "</div>"
      ],
      "text/plain": [
       "     num_preg  glucose_conc  diastolic_bp  thickness  insulin   bmi  \\\n",
       "763        10           101            76         48      180  32.9   \n",
       "764         2           122            70         27        0  36.8   \n",
       "765         5           121            72         23      112  26.2   \n",
       "766         1           126            60          0        0  30.1   \n",
       "767         1            93            70         31        0  30.4   \n",
       "\n",
       "     diab_pred  age    skin diabetes  \n",
       "763      0.171   63  1.8912    False  \n",
       "764      0.340   27  1.0638    False  \n",
       "765      0.245   30  0.9062    False  \n",
       "766      0.349   47  0.0000     True  \n",
       "767      0.315   23  1.2214    False  "
      ]
     },
     "execution_count": 13,
     "metadata": {},
     "output_type": "execute_result"
    }
   ],
   "source": [
    "df.tail(5) # end of the data frame"
   ]
  },
  {
   "cell_type": "markdown",
   "metadata": {},
   "source": [
    "## Definition of features\n",
    "From the metadata on the data source we have the following definition of the features.\n",
    "\n",
    "|Feature\t|Description\t|Comments|\n",
    "|-----------|---------------|--------|\n",
    "|num_preg\t|number of pregnancies|\n",
    "|glucose_conc\t|Plasma glucose concentration a 2 hours in an oral glucose tolerance test|\n",
    "|diastolic_bp\t|Diastolic blood pressure (mm Hg)|\n",
    "|thickness\t|Triceps skin fold thickness (mm)|\n",
    "|insulin\t|2-Hour serum insulin (mu U/ml)|\n",
    "|bmi\t|Body mass index (weight in kg/(height in m)^2)|\n",
    "|diab_pred\t|Diabetes pedigree function|\n",
    "|Age (years)\t|Age (years)|\n",
    "|skin\t|????\t|What is this?|\n",
    "|diabetes\t|Class variable (1=True, 0=False)\t|Why is our data boolean (True/False)?|"
   ]
  },
  {
   "cell_type": "markdown",
   "metadata": {},
   "source": [
    "## Check for null values"
   ]
  },
  {
   "cell_type": "code",
   "execution_count": 15,
   "metadata": {
    "collapsed": false
   },
   "outputs": [
    {
     "data": {
      "text/plain": [
       "False"
      ]
     },
     "execution_count": 15,
     "metadata": {},
     "output_type": "execute_result"
    }
   ],
   "source": [
    "df.isnull().values.any()"
   ]
  },
  {
   "cell_type": "markdown",
   "metadata": {},
   "source": [
    "## Check correlation and if there is any then delete the correlation"
   ]
  },
  {
   "cell_type": "code",
   "execution_count": 18,
   "metadata": {
    "collapsed": true
   },
   "outputs": [],
   "source": [
    "def plot_corr(df, size=11):\n",
    "    \"\"\"\n",
    "    Function plots a graphical correlation matrix of each pair of columns in the dataframe.\n",
    "    \n",
    "    Input:\n",
    "        df: pandas Data Frame\n",
    "        size: vertical and horizontal size of the plot\n",
    "        \n",
    "    Displays:\n",
    "        matrix of correlation between columns. Blue-cyan-yellow-red-darkred => less to more correlated\n",
    "                                                0------------------------->1\n",
    "                                                Expect a darkred line top left to bottom right\n",
    "    \"\"\"\n",
    "    \n",
    "    corr = df.corr() # data frame correlation function\n",
    "    fig , ax = plt.subplots(figsize=(size,size))\n",
    "    ax.matshow(corr) # color code the rectangles by correlation value\n",
    "    plt.xticks(range(len(corr.columns)), corr.columns) # draw x tick marks\n",
    "    plt.yticks(range(len(corr.columns)), corr.columns)"
   ]
  },
  {
   "cell_type": "code",
   "execution_count": 19,
   "metadata": {
    "collapsed": false
   },
   "outputs": [
    {
     "data": {
      "image/png": "[encoded data removed]",
      "text/plain": [
       "<matplotlib.figure.Figure at 0x7fb65c8625f8>"
      ]
     },
     "metadata": {},
     "output_type": "display_data"
    }
   ],
   "source": [
    "plot_corr(df)"
   ]
  },
  {
   "cell_type": "code",
   "execution_count": 20,
   "metadata": {
    "collapsed": false,
    "scrolled": true
   },
   "outputs": [
    {
     "data": {
      "text/html": [
       "<div style=\"max-height:1000px;max-width:1500px;overflow:auto;\">\n",
       "<table border=\"1\" class=\"dataframe\">\n",
       "  <thead>\n",
       "    <tr style=\"text-align: right;\">\n",
       "      <th></th>\n",
       "      <th>num_preg</th>\n",
       "      <th>glucose_conc</th>\n",
       "      <th>diastolic_bp</th>\n",
       "      <th>thickness</th>\n",
       "      <th>insulin</th>\n",
       "      <th>bmi</th>\n",
       "      <th>diab_pred</th>\n",
       "      <th>age</th>\n",
       "      <th>skin</th>\n",
       "      <th>diabetes</th>\n",
       "    </tr>\n",
       "  </thead>\n",
       "  <tbody>\n",
       "    <tr>\n",
       "      <th>num_preg</th>\n",
       "      <td> 1.000000</td>\n",
       "      <td> 0.129459</td>\n",
       "      <td> 0.141282</td>\n",
       "      <td>-0.081672</td>\n",
       "      <td>-0.073535</td>\n",
       "      <td> 0.017683</td>\n",
       "      <td>-0.033523</td>\n",
       "      <td> 0.544341</td>\n",
       "      <td>-0.081672</td>\n",
       "      <td> 0.221898</td>\n",
       "    </tr>\n",
       "    <tr>\n",
       "      <th>glucose_conc</th>\n",
       "      <td> 0.129459</td>\n",
       "      <td> 1.000000</td>\n",
       "      <td> 0.152590</td>\n",
       "      <td> 0.057328</td>\n",
       "      <td> 0.331357</td>\n",
       "      <td> 0.221071</td>\n",
       "      <td> 0.137337</td>\n",
       "      <td> 0.263514</td>\n",
       "      <td> 0.057328</td>\n",
       "      <td> 0.466581</td>\n",
       "    </tr>\n",
       "    <tr>\n",
       "      <th>diastolic_bp</th>\n",
       "      <td> 0.141282</td>\n",
       "      <td> 0.152590</td>\n",
       "      <td> 1.000000</td>\n",
       "      <td> 0.207371</td>\n",
       "      <td> 0.088933</td>\n",
       "      <td> 0.281805</td>\n",
       "      <td> 0.041265</td>\n",
       "      <td> 0.239528</td>\n",
       "      <td> 0.207371</td>\n",
       "      <td> 0.065068</td>\n",
       "    </tr>\n",
       "    <tr>\n",
       "      <th>thickness</th>\n",
       "      <td>-0.081672</td>\n",
       "      <td> 0.057328</td>\n",
       "      <td> 0.207371</td>\n",
       "      <td> 1.000000</td>\n",
       "      <td> 0.436783</td>\n",
       "      <td> 0.392573</td>\n",
       "      <td> 0.183928</td>\n",
       "      <td>-0.113970</td>\n",
       "      <td> 1.000000</td>\n",
       "      <td> 0.074752</td>\n",
       "    </tr>\n",
       "    <tr>\n",
       "      <th>insulin</th>\n",
       "      <td>-0.073535</td>\n",
       "      <td> 0.331357</td>\n",
       "      <td> 0.088933</td>\n",
       "      <td> 0.436783</td>\n",
       "      <td> 1.000000</td>\n",
       "      <td> 0.197859</td>\n",
       "      <td> 0.185071</td>\n",
       "      <td>-0.042163</td>\n",
       "      <td> 0.436783</td>\n",
       "      <td> 0.130548</td>\n",
       "    </tr>\n",
       "    <tr>\n",
       "      <th>bmi</th>\n",
       "      <td> 0.017683</td>\n",
       "      <td> 0.221071</td>\n",
       "      <td> 0.281805</td>\n",
       "      <td> 0.392573</td>\n",
       "      <td> 0.197859</td>\n",
       "      <td> 1.000000</td>\n",
       "      <td> 0.140647</td>\n",
       "      <td> 0.036242</td>\n",
       "      <td> 0.392573</td>\n",
       "      <td> 0.292695</td>\n",
       "    </tr>\n",
       "    <tr>\n",
       "      <th>diab_pred</th>\n",
       "      <td>-0.033523</td>\n",
       "      <td> 0.137337</td>\n",
       "      <td> 0.041265</td>\n",
       "      <td> 0.183928</td>\n",
       "      <td> 0.185071</td>\n",
       "      <td> 0.140647</td>\n",
       "      <td> 1.000000</td>\n",
       "      <td> 0.033561</td>\n",
       "      <td> 0.183928</td>\n",
       "      <td> 0.173844</td>\n",
       "    </tr>\n",
       "    <tr>\n",
       "      <th>age</th>\n",
       "      <td> 0.544341</td>\n",
       "      <td> 0.263514</td>\n",
       "      <td> 0.239528</td>\n",
       "      <td>-0.113970</td>\n",
       "      <td>-0.042163</td>\n",
       "      <td> 0.036242</td>\n",
       "      <td> 0.033561</td>\n",
       "      <td> 1.000000</td>\n",
       "      <td>-0.113970</td>\n",
       "      <td> 0.238356</td>\n",
       "    </tr>\n",
       "    <tr>\n",
       "      <th>skin</th>\n",
       "      <td>-0.081672</td>\n",
       "      <td> 0.057328</td>\n",
       "      <td> 0.207371</td>\n",
       "      <td> 1.000000</td>\n",
       "      <td> 0.436783</td>\n",
       "      <td> 0.392573</td>\n",
       "      <td> 0.183928</td>\n",
       "      <td>-0.113970</td>\n",
       "      <td> 1.000000</td>\n",
       "      <td> 0.074752</td>\n",
       "    </tr>\n",
       "    <tr>\n",
       "      <th>diabetes</th>\n",
       "      <td> 0.221898</td>\n",
       "      <td> 0.466581</td>\n",
       "      <td> 0.065068</td>\n",
       "      <td> 0.074752</td>\n",
       "      <td> 0.130548</td>\n",
       "      <td> 0.292695</td>\n",
       "      <td> 0.173844</td>\n",
       "      <td> 0.238356</td>\n",
       "      <td> 0.074752</td>\n",
       "      <td> 1.000000</td>\n",
       "    </tr>\n",
       "  </tbody>\n",
       "</table>\n",
       "</div>"
      ],
      "text/plain": [
       "              num_preg  glucose_conc  diastolic_bp  thickness   insulin  \\\n",
       "num_preg      1.000000      0.129459      0.141282  -0.081672 -0.073535   \n",
       "glucose_conc  0.129459      1.000000      0.152590   0.057328  0.331357   \n",
       "diastolic_bp  0.141282      0.152590      1.000000   0.207371  0.088933   \n",
       "thickness    -0.081672      0.057328      0.207371   1.000000  0.436783   \n",
       "insulin      -0.073535      0.331357      0.088933   0.436783  1.000000   \n",
       "bmi           0.017683      0.221071      0.281805   0.392573  0.197859   \n",
       "diab_pred    -0.033523      0.137337      0.041265   0.183928  0.185071   \n",
       "age           0.544341      0.263514      0.239528  -0.113970 -0.042163   \n",
       "skin         -0.081672      0.057328      0.207371   1.000000  0.436783   \n",
       "diabetes      0.221898      0.466581      0.065068   0.074752  0.130548   \n",
       "\n",
       "                   bmi  diab_pred       age      skin  diabetes  \n",
       "num_preg      0.017683  -0.033523  0.544341 -0.081672  0.221898  \n",
       "glucose_conc  0.221071   0.137337  0.263514  0.057328  0.466581  \n",
       "diastolic_bp  0.281805   0.041265  0.239528  0.207371  0.065068  \n",
       "thickness     0.392573   0.183928 -0.113970  1.000000  0.074752  \n",
       "insulin       0.197859   0.185071 -0.042163  0.436783  0.130548  \n",
       "bmi           1.000000   0.140647  0.036242  0.392573  0.292695  \n",
       "diab_pred     0.140647   1.000000  0.033561  0.183928  0.173844  \n",
       "age           0.036242   0.033561  1.000000 -0.113970  0.238356  \n",
       "skin          0.392573   0.183928 -0.113970  1.000000  0.074752  \n",
       "diabetes      0.292695   0.173844  0.238356  0.074752  1.000000  "
      ]
     },
     "execution_count": 20,
     "metadata": {},
     "output_type": "execute_result"
    }
   ],
   "source": [
    "df.corr()"
   ]
  },
  {
   "cell_type": "code",
   "execution_count": 26,
   "metadata": {
    "collapsed": false
   },
   "outputs": [],
   "source": [
    "del df['skin']  # delete the skin column b/c skin and thickness have a strong correlation"
   ]
  },
  {
   "cell_type": "code",
   "execution_count": 40,
   "metadata": {
    "collapsed": false
   },
   "outputs": [
    {
     "data": {
      "image/png": "[encoded data removed]",
      "text/plain": [
       "<matplotlib.figure.Figure at 0x7fb65c7ddda0>"
      ]
     },
     "metadata": {},
     "output_type": "display_data"
    }
   ],
   "source": [
    "plot_corr(df)"
   ]
  },
  {
   "cell_type": "markdown",
   "metadata": {},
   "source": [
    "## Check Data types (Make every column numeric)"
   ]
  },
  {
   "cell_type": "code",
   "execution_count": 27,
   "metadata": {
    "collapsed": false
   },
   "outputs": [
    {
     "data": {
      "text/html": [
       "<div style=\"max-height:1000px;max-width:1500px;overflow:auto;\">\n",
       "<table border=\"1\" class=\"dataframe\">\n",
       "  <thead>\n",
       "    <tr style=\"text-align: right;\">\n",
       "      <th></th>\n",
       "      <th>num_preg</th>\n",
       "      <th>glucose_conc</th>\n",
       "      <th>diastolic_bp</th>\n",
       "      <th>thickness</th>\n",
       "      <th>insulin</th>\n",
       "      <th>bmi</th>\n",
       "      <th>diab_pred</th>\n",
       "      <th>age</th>\n",
       "      <th>diabetes</th>\n",
       "    </tr>\n",
       "  </thead>\n",
       "  <tbody>\n",
       "    <tr>\n",
       "      <th>0</th>\n",
       "      <td> 6</td>\n",
       "      <td> 148</td>\n",
       "      <td> 72</td>\n",
       "      <td> 35</td>\n",
       "      <td>   0</td>\n",
       "      <td> 33.6</td>\n",
       "      <td> 0.627</td>\n",
       "      <td> 50</td>\n",
       "      <td>  True</td>\n",
       "    </tr>\n",
       "    <tr>\n",
       "      <th>1</th>\n",
       "      <td> 1</td>\n",
       "      <td>  85</td>\n",
       "      <td> 66</td>\n",
       "      <td> 29</td>\n",
       "      <td>   0</td>\n",
       "      <td> 26.6</td>\n",
       "      <td> 0.351</td>\n",
       "      <td> 31</td>\n",
       "      <td> False</td>\n",
       "    </tr>\n",
       "    <tr>\n",
       "      <th>2</th>\n",
       "      <td> 8</td>\n",
       "      <td> 183</td>\n",
       "      <td> 64</td>\n",
       "      <td>  0</td>\n",
       "      <td>   0</td>\n",
       "      <td> 23.3</td>\n",
       "      <td> 0.672</td>\n",
       "      <td> 32</td>\n",
       "      <td>  True</td>\n",
       "    </tr>\n",
       "    <tr>\n",
       "      <th>3</th>\n",
       "      <td> 1</td>\n",
       "      <td>  89</td>\n",
       "      <td> 66</td>\n",
       "      <td> 23</td>\n",
       "      <td>  94</td>\n",
       "      <td> 28.1</td>\n",
       "      <td> 0.167</td>\n",
       "      <td> 21</td>\n",
       "      <td> False</td>\n",
       "    </tr>\n",
       "    <tr>\n",
       "      <th>4</th>\n",
       "      <td> 0</td>\n",
       "      <td> 137</td>\n",
       "      <td> 40</td>\n",
       "      <td> 35</td>\n",
       "      <td> 168</td>\n",
       "      <td> 43.1</td>\n",
       "      <td> 2.288</td>\n",
       "      <td> 33</td>\n",
       "      <td>  True</td>\n",
       "    </tr>\n",
       "  </tbody>\n",
       "</table>\n",
       "</div>"
      ],
      "text/plain": [
       "   num_preg  glucose_conc  diastolic_bp  thickness  insulin   bmi  diab_pred  \\\n",
       "0         6           148            72         35        0  33.6      0.627   \n",
       "1         1            85            66         29        0  26.6      0.351   \n",
       "2         8           183            64          0        0  23.3      0.672   \n",
       "3         1            89            66         23       94  28.1      0.167   \n",
       "4         0           137            40         35      168  43.1      2.288   \n",
       "\n",
       "   age diabetes  \n",
       "0   50     True  \n",
       "1   31    False  \n",
       "2   32     True  \n",
       "3   21    False  \n",
       "4   33     True  "
      ]
     },
     "execution_count": 27,
     "metadata": {},
     "output_type": "execute_result"
    }
   ],
   "source": [
    "df.head()"
   ]
  },
  {
   "cell_type": "markdown",
   "metadata": {},
   "source": [
    "Change True to 1 and False to 0"
   ]
  },
  {
   "cell_type": "code",
   "execution_count": 29,
   "metadata": {
    "collapsed": false
   },
   "outputs": [],
   "source": [
    "diabetes_map = {True: 1, False: 0} # create dictionary"
   ]
  },
  {
   "cell_type": "code",
   "execution_count": 32,
   "metadata": {
    "collapsed": true
   },
   "outputs": [],
   "source": [
    "df['diabetes'] = df['diabetes'].map(diabetes_map) # uses pandas map function for molding data (true=1, false=0)"
   ]
  },
  {
   "cell_type": "code",
   "execution_count": 33,
   "metadata": {
    "collapsed": false
   },
   "outputs": [
    {
     "data": {
      "text/html": [
       "<div style=\"max-height:1000px;max-width:1500px;overflow:auto;\">\n",
       "<table border=\"1\" class=\"dataframe\">\n",
       "  <thead>\n",
       "    <tr style=\"text-align: right;\">\n",
       "      <th></th>\n",
       "      <th>num_preg</th>\n",
       "      <th>glucose_conc</th>\n",
       "      <th>diastolic_bp</th>\n",
       "      <th>thickness</th>\n",
       "      <th>insulin</th>\n",
       "      <th>bmi</th>\n",
       "      <th>diab_pred</th>\n",
       "      <th>age</th>\n",
       "      <th>diabetes</th>\n",
       "    </tr>\n",
       "  </thead>\n",
       "  <tbody>\n",
       "    <tr>\n",
       "      <th>0</th>\n",
       "      <td> 6</td>\n",
       "      <td> 148</td>\n",
       "      <td> 72</td>\n",
       "      <td> 35</td>\n",
       "      <td>   0</td>\n",
       "      <td> 33.6</td>\n",
       "      <td> 0.627</td>\n",
       "      <td> 50</td>\n",
       "      <td> 1</td>\n",
       "    </tr>\n",
       "    <tr>\n",
       "      <th>1</th>\n",
       "      <td> 1</td>\n",
       "      <td>  85</td>\n",
       "      <td> 66</td>\n",
       "      <td> 29</td>\n",
       "      <td>   0</td>\n",
       "      <td> 26.6</td>\n",
       "      <td> 0.351</td>\n",
       "      <td> 31</td>\n",
       "      <td> 0</td>\n",
       "    </tr>\n",
       "    <tr>\n",
       "      <th>2</th>\n",
       "      <td> 8</td>\n",
       "      <td> 183</td>\n",
       "      <td> 64</td>\n",
       "      <td>  0</td>\n",
       "      <td>   0</td>\n",
       "      <td> 23.3</td>\n",
       "      <td> 0.672</td>\n",
       "      <td> 32</td>\n",
       "      <td> 1</td>\n",
       "    </tr>\n",
       "    <tr>\n",
       "      <th>3</th>\n",
       "      <td> 1</td>\n",
       "      <td>  89</td>\n",
       "      <td> 66</td>\n",
       "      <td> 23</td>\n",
       "      <td>  94</td>\n",
       "      <td> 28.1</td>\n",
       "      <td> 0.167</td>\n",
       "      <td> 21</td>\n",
       "      <td> 0</td>\n",
       "    </tr>\n",
       "    <tr>\n",
       "      <th>4</th>\n",
       "      <td> 0</td>\n",
       "      <td> 137</td>\n",
       "      <td> 40</td>\n",
       "      <td> 35</td>\n",
       "      <td> 168</td>\n",
       "      <td> 43.1</td>\n",
       "      <td> 2.288</td>\n",
       "      <td> 33</td>\n",
       "      <td> 1</td>\n",
       "    </tr>\n",
       "  </tbody>\n",
       "</table>\n",
       "</div>"
      ],
      "text/plain": [
       "   num_preg  glucose_conc  diastolic_bp  thickness  insulin   bmi  diab_pred  \\\n",
       "0         6           148            72         35        0  33.6      0.627   \n",
       "1         1            85            66         29        0  26.6      0.351   \n",
       "2         8           183            64          0        0  23.3      0.672   \n",
       "3         1            89            66         23       94  28.1      0.167   \n",
       "4         0           137            40         35      168  43.1      2.288   \n",
       "\n",
       "   age  diabetes  \n",
       "0   50         1  \n",
       "1   31         0  \n",
       "2   32         1  \n",
       "3   21         0  \n",
       "4   33         1  "
      ]
     },
     "execution_count": 33,
     "metadata": {},
     "output_type": "execute_result"
    }
   ],
   "source": [
    "df.head()"
   ]
  },
  {
   "cell_type": "markdown",
   "metadata": {},
   "source": [
    "# Check True/False ratio"
   ]
  },
  {
   "cell_type": "code",
   "execution_count": 39,
   "metadata": {
    "collapsed": false
   },
   "outputs": [
    {
     "name": "stdout",
     "output_type": "stream",
     "text": [
      "Number of true cases: 268 (34.90%)\n",
      "Number of false cases: 500 (65.10%)\n"
     ]
    }
   ],
   "source": [
    "num_true = len(df.loc[df['diabetes'] == True])\n",
    "num_false = len(df.loc[df['diabetes'] == False])\n",
    "print(\"Number of true cases: {0} ({1:2.2f}%)\".format(num_true, (num_true / (num_true+num_false)) * 100))\n",
    "print(\"Number of false cases: {0} ({1:2.2f}%)\".format(num_false, (num_false / (num_true+num_false)) * 100))"
   ]
  },
  {
   "cell_type": "code",
   "execution_count": null,
   "metadata": {
    "collapsed": true
   },
   "outputs": [],
   "source": []
  }
 ],
 "metadata": {
  "kernelspec": {
   "display_name": "Python 3",
   "language": "python",
   "name": "python3"
  },
  "language_info": {
   "codemirror_mode": {
    "name": "ipython",
    "version": 3
   },
   "file_extension": ".py",
   "mimetype": "text/x-python",
   "name": "python",
   "nbconvert_exporter": "python",
   "pygments_lexer": "ipython3",
   "version": "3.4.2"
  }
 },
 "nbformat": 4,
 "nbformat_minor": 2
}
