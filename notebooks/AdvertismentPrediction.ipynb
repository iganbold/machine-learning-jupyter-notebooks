{
 "cells": [
  {
   "cell_type": "markdown",
   "metadata": {},
   "source": [
    "## Asking the right question"
   ]
  },
  {
   "cell_type": "markdown",
   "metadata": {},
   "source": [
    "Use the Machine Learning Workflow to process and transform sales data to create a prediction model. This Model must predict the how many items sale based on tv, radio or newspaper advertisements with 85% or greater accuracy."
   ]
  },
  {
   "cell_type": "markdown",
   "metadata": {
    "collapsed": true
   },
   "source": [
    "### Import libraries"
   ]
  },
  {
   "cell_type": "code",
   "execution_count": 125,
   "metadata": {
    "collapsed": true
   },
   "outputs": [],
   "source": [
    "import pandas as pd\n",
    "import matplotlib.pyplot as plt\n",
    "\n",
    "#do ploting inline instead of in a seperate window\n",
    "%matplotlib inline"
   ]
  },
  {
   "cell_type": "code",
   "execution_count": 126,
   "metadata": {
    "collapsed": false
   },
   "outputs": [],
   "source": [
    "df = pd.read_csv('http://www-bcf.usc.edu/~gareth/ISL/Advertising.csv', index_col=0) # load advertisment data"
   ]
  },
  {
   "cell_type": "code",
   "execution_count": 127,
   "metadata": {
    "collapsed": false
   },
   "outputs": [
    {
     "data": {
      "text/plain": [
       "(200, 4)"
      ]
     },
     "execution_count": 127,
     "metadata": {},
     "output_type": "execute_result"
    }
   ],
   "source": [
    "data.shape"
   ]
  },
  {
   "cell_type": "code",
   "execution_count": 128,
   "metadata": {
    "collapsed": false
   },
   "outputs": [
    {
     "data": {
      "text/html": [
       "<div style=\"max-height:1000px;max-width:1500px;overflow:auto;\">\n",
       "<table border=\"1\" class=\"dataframe\">\n",
       "  <thead>\n",
       "    <tr style=\"text-align: right;\">\n",
       "      <th></th>\n",
       "      <th>TV</th>\n",
       "      <th>Radio</th>\n",
       "      <th>Newspaper</th>\n",
       "      <th>Sales</th>\n",
       "    </tr>\n",
       "  </thead>\n",
       "  <tbody>\n",
       "    <tr>\n",
       "      <th>1</th>\n",
       "      <td> 230.1</td>\n",
       "      <td> 37.8</td>\n",
       "      <td> 69.2</td>\n",
       "      <td> 22.1</td>\n",
       "    </tr>\n",
       "    <tr>\n",
       "      <th>2</th>\n",
       "      <td>  44.5</td>\n",
       "      <td> 39.3</td>\n",
       "      <td> 45.1</td>\n",
       "      <td> 10.4</td>\n",
       "    </tr>\n",
       "    <tr>\n",
       "      <th>3</th>\n",
       "      <td>  17.2</td>\n",
       "      <td> 45.9</td>\n",
       "      <td> 69.3</td>\n",
       "      <td>  9.3</td>\n",
       "    </tr>\n",
       "    <tr>\n",
       "      <th>4</th>\n",
       "      <td> 151.5</td>\n",
       "      <td> 41.3</td>\n",
       "      <td> 58.5</td>\n",
       "      <td> 18.5</td>\n",
       "    </tr>\n",
       "    <tr>\n",
       "      <th>5</th>\n",
       "      <td> 180.8</td>\n",
       "      <td> 10.8</td>\n",
       "      <td> 58.4</td>\n",
       "      <td> 12.9</td>\n",
       "    </tr>\n",
       "  </tbody>\n",
       "</table>\n",
       "</div>"
      ],
      "text/plain": [
       "      TV  Radio  Newspaper  Sales\n",
       "1  230.1   37.8       69.2   22.1\n",
       "2   44.5   39.3       45.1   10.4\n",
       "3   17.2   45.9       69.3    9.3\n",
       "4  151.5   41.3       58.5   18.5\n",
       "5  180.8   10.8       58.4   12.9"
      ]
     },
     "execution_count": 128,
     "metadata": {},
     "output_type": "execute_result"
    }
   ],
   "source": [
    "df.head()"
   ]
  },
  {
   "cell_type": "code",
   "execution_count": 129,
   "metadata": {
    "collapsed": false
   },
   "outputs": [
    {
     "data": {
      "text/html": [
       "<div style=\"max-height:1000px;max-width:1500px;overflow:auto;\">\n",
       "<table border=\"1\" class=\"dataframe\">\n",
       "  <thead>\n",
       "    <tr style=\"text-align: right;\">\n",
       "      <th></th>\n",
       "      <th>TV</th>\n",
       "      <th>Radio</th>\n",
       "      <th>Newspaper</th>\n",
       "      <th>Sales</th>\n",
       "    </tr>\n",
       "  </thead>\n",
       "  <tbody>\n",
       "    <tr>\n",
       "      <th>196</th>\n",
       "      <td>  38.2</td>\n",
       "      <td>  3.7</td>\n",
       "      <td> 13.8</td>\n",
       "      <td>  7.6</td>\n",
       "    </tr>\n",
       "    <tr>\n",
       "      <th>197</th>\n",
       "      <td>  94.2</td>\n",
       "      <td>  4.9</td>\n",
       "      <td>  8.1</td>\n",
       "      <td>  9.7</td>\n",
       "    </tr>\n",
       "    <tr>\n",
       "      <th>198</th>\n",
       "      <td> 177.0</td>\n",
       "      <td>  9.3</td>\n",
       "      <td>  6.4</td>\n",
       "      <td> 12.8</td>\n",
       "    </tr>\n",
       "    <tr>\n",
       "      <th>199</th>\n",
       "      <td> 283.6</td>\n",
       "      <td> 42.0</td>\n",
       "      <td> 66.2</td>\n",
       "      <td> 25.5</td>\n",
       "    </tr>\n",
       "    <tr>\n",
       "      <th>200</th>\n",
       "      <td> 232.1</td>\n",
       "      <td>  8.6</td>\n",
       "      <td>  8.7</td>\n",
       "      <td> 13.4</td>\n",
       "    </tr>\n",
       "  </tbody>\n",
       "</table>\n",
       "</div>"
      ],
      "text/plain": [
       "        TV  Radio  Newspaper  Sales\n",
       "196   38.2    3.7       13.8    7.6\n",
       "197   94.2    4.9        8.1    9.7\n",
       "198  177.0    9.3        6.4   12.8\n",
       "199  283.6   42.0       66.2   25.5\n",
       "200  232.1    8.6        8.7   13.4"
      ]
     },
     "execution_count": 129,
     "metadata": {},
     "output_type": "execute_result"
    }
   ],
   "source": [
    "df.tail()"
   ]
  },
  {
   "cell_type": "markdown",
   "metadata": {},
   "source": [
    "### Definition of features\n",
    "\n",
    "|Feature| Description | Comment|\n",
    "|-------|-------------|--------|\n",
    "|TV|advertising dollars spent on TV for a single product in a given market (in thousands of dollars)||\n",
    "|Radio| advertising dollars spent on Radio||\n",
    "|Newspaper|advertising dollars spent on Newspaper||\n",
    "|Sales (Label)|sales of a single product in a given market (in thousands ofitems)||"
   ]
  },
  {
   "cell_type": "markdown",
   "metadata": {},
   "source": [
    "### Check for null values"
   ]
  },
  {
   "cell_type": "code",
   "execution_count": 130,
   "metadata": {
    "collapsed": false
   },
   "outputs": [
    {
     "data": {
      "text/plain": [
       "False"
      ]
     },
     "execution_count": 130,
     "metadata": {},
     "output_type": "execute_result"
    }
   ],
   "source": [
    "df.isnull().values.any() # if returns False, there is no null data"
   ]
  },
  {
   "cell_type": "markdown",
   "metadata": {},
   "source": [
    "### Check the correlation"
   ]
  },
  {
   "cell_type": "code",
   "execution_count": 145,
   "metadata": {
    "collapsed": true
   },
   "outputs": [],
   "source": [
    "def plot_corr(df, size=5):\n",
    "    \"\"\"\n",
    "    Function plots a graphical correlation matrix of each pair of columns in the dataframe.\n",
    "    \n",
    "    Input:\n",
    "        df: pandas Data Frame\n",
    "        size: vertical and horizontal size of the plot\n",
    "        \n",
    "    Displays:\n",
    "        matrix of correlation between columns. Blue-cyan-yellow-red-darkred => less to more correlated\n",
    "                                                0------------------------->1\n",
    "                                                Expect a darkred line top left to bottom right\n",
    "    \"\"\"\n",
    "    corr = df.corr() # data frame correlation function\n",
    "    fig , ax = plt.subplots(figsize=(size,size))\n",
    "    ax.matshow(corr) # color code the rectangles by correlation value\n",
    "    plt.xticks(range(len(corr.columns)), corr.columns) # draw x tick marks\n",
    "    plt.yticks(range(len(corr.columns)), corr.columns)"
   ]
  },
  {
   "cell_type": "code",
   "execution_count": 146,
   "metadata": {
    "collapsed": false
   },
   "outputs": [
    {
     "data": {
      "image/png": "[encoded data removed]",
      "text/plain": [
       "<matplotlib.figure.Figure at 0x7fe48a76cd30>"
      ]
     },
     "metadata": {},
     "output_type": "display_data"
    }
   ],
   "source": [
    "plot_corr(df)"
   ]
  },
  {
   "cell_type": "markdown",
   "metadata": {},
   "source": [
    "### Check Data types (Make every column numeric)"
   ]
  },
  {
   "cell_type": "code",
   "execution_count": 133,
   "metadata": {
    "collapsed": false
   },
   "outputs": [
    {
     "data": {
      "text/html": [
       "<div style=\"max-height:1000px;max-width:1500px;overflow:auto;\">\n",
       "<table border=\"1\" class=\"dataframe\">\n",
       "  <thead>\n",
       "    <tr style=\"text-align: right;\">\n",
       "      <th></th>\n",
       "      <th>TV</th>\n",
       "      <th>Radio</th>\n",
       "      <th>Newspaper</th>\n",
       "      <th>Sales</th>\n",
       "    </tr>\n",
       "  </thead>\n",
       "  <tbody>\n",
       "    <tr>\n",
       "      <th>1 </th>\n",
       "      <td> 230.1</td>\n",
       "      <td> 37.8</td>\n",
       "      <td> 69.2</td>\n",
       "      <td> 22.1</td>\n",
       "    </tr>\n",
       "    <tr>\n",
       "      <th>2 </th>\n",
       "      <td>  44.5</td>\n",
       "      <td> 39.3</td>\n",
       "      <td> 45.1</td>\n",
       "      <td> 10.4</td>\n",
       "    </tr>\n",
       "    <tr>\n",
       "      <th>3 </th>\n",
       "      <td>  17.2</td>\n",
       "      <td> 45.9</td>\n",
       "      <td> 69.3</td>\n",
       "      <td>  9.3</td>\n",
       "    </tr>\n",
       "    <tr>\n",
       "      <th>4 </th>\n",
       "      <td> 151.5</td>\n",
       "      <td> 41.3</td>\n",
       "      <td> 58.5</td>\n",
       "      <td> 18.5</td>\n",
       "    </tr>\n",
       "    <tr>\n",
       "      <th>5 </th>\n",
       "      <td> 180.8</td>\n",
       "      <td> 10.8</td>\n",
       "      <td> 58.4</td>\n",
       "      <td> 12.9</td>\n",
       "    </tr>\n",
       "    <tr>\n",
       "      <th>6 </th>\n",
       "      <td>   8.7</td>\n",
       "      <td> 48.9</td>\n",
       "      <td> 75.0</td>\n",
       "      <td>  7.2</td>\n",
       "    </tr>\n",
       "    <tr>\n",
       "      <th>7 </th>\n",
       "      <td>  57.5</td>\n",
       "      <td> 32.8</td>\n",
       "      <td> 23.5</td>\n",
       "      <td> 11.8</td>\n",
       "    </tr>\n",
       "    <tr>\n",
       "      <th>8 </th>\n",
       "      <td> 120.2</td>\n",
       "      <td> 19.6</td>\n",
       "      <td> 11.6</td>\n",
       "      <td> 13.2</td>\n",
       "    </tr>\n",
       "    <tr>\n",
       "      <th>9 </th>\n",
       "      <td>   8.6</td>\n",
       "      <td>  2.1</td>\n",
       "      <td>  1.0</td>\n",
       "      <td>  4.8</td>\n",
       "    </tr>\n",
       "    <tr>\n",
       "      <th>10</th>\n",
       "      <td> 199.8</td>\n",
       "      <td>  2.6</td>\n",
       "      <td> 21.2</td>\n",
       "      <td> 10.6</td>\n",
       "    </tr>\n",
       "  </tbody>\n",
       "</table>\n",
       "</div>"
      ],
      "text/plain": [
       "       TV  Radio  Newspaper  Sales\n",
       "1   230.1   37.8       69.2   22.1\n",
       "2    44.5   39.3       45.1   10.4\n",
       "3    17.2   45.9       69.3    9.3\n",
       "4   151.5   41.3       58.5   18.5\n",
       "5   180.8   10.8       58.4   12.9\n",
       "6     8.7   48.9       75.0    7.2\n",
       "7    57.5   32.8       23.5   11.8\n",
       "8   120.2   19.6       11.6   13.2\n",
       "9     8.6    2.1        1.0    4.8\n",
       "10  199.8    2.6       21.2   10.6"
      ]
     },
     "execution_count": 133,
     "metadata": {},
     "output_type": "execute_result"
    }
   ],
   "source": [
    "df.head(10)"
   ]
  },
  {
   "cell_type": "markdown",
   "metadata": {},
   "source": [
    "### Visualizing data using SEABORN "
   ]
  },
  {
   "cell_type": "code",
   "execution_count": 134,
   "metadata": {
    "collapsed": false
   },
   "outputs": [],
   "source": [
    "import seaborn as sns"
   ]
  },
  {
   "cell_type": "code",
   "execution_count": 135,
   "metadata": {
    "collapsed": false
   },
   "outputs": [
    {
     "data": {
      "text/plain": [
       "<seaborn.axisgrid.PairGrid at 0x7fe493ef4c50>"
      ]
     },
     "execution_count": 135,
     "metadata": {},
     "output_type": "execute_result"
    },
    {
     "data": {
      "image/png": "[encoded data removed]",
      "text/plain": [
       "<matplotlib.figure.Figure at 0x7fe493ef4ac8>"
      ]
     },
     "metadata": {},
     "output_type": "display_data"
    }
   ],
   "source": [
    "sns.pairplot(df,x_vars=['TV','Radio','Newspaper'],y_vars=['Sales'], size = 7, aspect = 0.7, kind='reg')"
   ]
  },
  {
   "cell_type": "markdown",
   "metadata": {},
   "source": [
    "### Training the Model "
   ]
  },
  {
   "cell_type": "markdown",
   "metadata": {},
   "source": [
    "#### Splitting the data\n",
    "\n",
    "70% for training, 30% for testing"
   ]
  },
  {
   "cell_type": "code",
   "execution_count": 136,
   "metadata": {
    "collapsed": false
   },
   "outputs": [],
   "source": [
    "from sklearn.model_selection import train_test_split\n",
    "\n",
    "feature_col_names = ['TV','Radio','Newspaper']\n",
    "predict_col_names = ['Sales']\n",
    "\n",
    "X = df[feature_col_names].values\n",
    "y = df[predict_col_names].values\n",
    "\n",
    "split_test_size = 0.3\n",
    "\n",
    "X_train, X_test, y_train, y_test = train_test_split(X, y, test_size = split_test_size, random_state = 42)"
   ]
  },
  {
   "cell_type": "markdown",
   "metadata": {},
   "source": [
    "We check to ensure we have the desired 70% training, 30% test of the data"
   ]
  },
  {
   "cell_type": "code",
   "execution_count": 137,
   "metadata": {
    "collapsed": false,
    "scrolled": false
   },
   "outputs": [
    {
     "name": "stdout",
     "output_type": "stream",
     "text": [
      "70.00% in training set\n",
      "30.00% in test set\n"
     ]
    }
   ],
   "source": [
    "print(\"{0:.2f}% in training set\".format(len(X_train)/ len(X) * 100))\n",
    "print(\"{0:.2f}% in test set\".format(len(y_test)/ len(X) * 100))"
   ]
  },
  {
   "cell_type": "markdown",
   "metadata": {},
   "source": [
    "#### We check Hidden missing values"
   ]
  },
  {
   "cell_type": "code",
   "execution_count": 138,
   "metadata": {
    "collapsed": false
   },
   "outputs": [
    {
     "name": "stdout",
     "output_type": "stream",
     "text": [
      "# rows in datafram 200\n",
      "# rows missing TV: 0\n",
      "# rows missing TV: 1\n",
      "# rows missing TV: 0\n"
     ]
    }
   ],
   "source": [
    "print(\"# rows in datafram {0}\".format(len(df)))\n",
    "print(\"# rows missing TV: {}\".format(len(df.loc[df['TV'] == 0])))\n",
    "print(\"# rows missing TV: {}\".format(len(df.loc[df['Radio'] == 0])))\n",
    "print(\"# rows missing TV: {}\".format(len(df.loc[df['Newspaper'] == 0])))"
   ]
  },
  {
   "cell_type": "markdown",
   "metadata": {},
   "source": [
    "We usually need a domain expert to fix missing values!!!\n",
    "\n",
    "Missing Data\n",
    "Common Problem\n",
    "\n",
    "Optioins\n",
    "- Ignore\n",
    "- Drop observations (rows)\n",
    "- Replace values (Impute)  \n",
    "    Imputing Options\n",
    "    - Replace with mean, median\n",
    "    - Replace with expert knowledge derived value (This is a BETTER option)"
   ]
  },
  {
   "cell_type": "markdown",
   "metadata": {},
   "source": [
    "#### Training Initial Algorithm - Linear Regression "
   ]
  },
  {
   "cell_type": "code",
   "execution_count": 139,
   "metadata": {
    "collapsed": false
   },
   "outputs": [
    {
     "data": {
      "text/plain": [
       "LinearRegression(copy_X=True, fit_intercept=True, n_jobs=-1, normalize=False)"
      ]
     },
     "execution_count": 139,
     "metadata": {},
     "output_type": "execute_result"
    }
   ],
   "source": [
    "from sklearn.linear_model import LinearRegression\n",
    "\n",
    "lr_model = LinearRegression(n_jobs=-1) # n_jobs=-1 uses the all possible cores of the system\n",
    "lr_model.fit(X_train, y_train)"
   ]
  },
  {
   "cell_type": "markdown",
   "metadata": {},
   "source": [
    "#### Interpreting Model coefficients "
   ]
  },
  {
   "cell_type": "code",
   "execution_count": 140,
   "metadata": {
    "collapsed": false
   },
   "outputs": [
    {
     "name": "stdout",
     "output_type": "stream",
     "text": [
      "y intercept: [ 2.70894909]\n",
      "Slopes/coeficient: [('TV', 0.044059280957465162), ('Radio', 0.19928749689893935), ('Newspaper', 0.0068824522222754453)]\n"
     ]
    }
   ],
   "source": [
    "print(\"y intercept: {0}\".format(lr_model.intercept_))\n",
    "print(\"Slopes/coeficient: {0}\".format(list(zip(feature_col_names ,lr_model.coef_[0]))))"
   ]
  },
  {
   "cell_type": "markdown",
   "metadata": {},
   "source": [
    "y = 2.88 + 0.0466 × TV + 0.179 × Radio + 0.00345 × Newspaper\n",
    "\n",
    "How do we interpret the TV coefficient (0.0466)?\n",
    "- For a given amount of Radio and Newspaper ad spending, a \"unit\" a \"unit\"\n",
    "increase in TV ad spending increase in TV ad spending is associated with a 0.0466 \"unit\" 0.0466 \"unit\"\n",
    "increase in Sales increase in Sales.\n",
    "- Or more clearly: For a given amount of Radio and Newspaper ad\n",
    "spending, an additional $1,000 spent on TV ads an additional $1,000 spent on TV ads is associated\n",
    "with an increase in sales of 46.6 items increase in sales of 46.6 items\n",
    "\n",
    "Important notes:\n",
    "- This is a statement of association association, not causation causation.\n",
    "- If an increase in TV ad spending was associated with a decrease decrease in\n",
    "sales, would be negative negative."
   ]
  },
  {
   "cell_type": "markdown",
   "metadata": {},
   "source": [
    "### Model evaluation metrics for Model evaluation metrics for regression"
   ]
  },
  {
   "cell_type": "markdown",
   "metadata": {},
   "source": [
    "Evaluation metrics for classification problems, such as accuracy accuracy, are\n",
    "not useful for regression problems. Instead, we need evaluation metrics\n",
    "designed for comparing continuous values.\n",
    "Let's create some example numeric predictions, and calculate three\n",
    "common evaluation metrics common evaluation metrics for regression problems:\n",
    "\n",
    "Comparing these metrics\n",
    "- MAE  is the mean of the absolute value of the errors: is the easiest to understand, because it's the average error. https://en.wikipedia.org/wiki/Mean_absolute_error\n",
    "- MSE  is the mean of the squared errors: is more popular than MAE, because MSE \"punishes\" largererrors. https://en.wikipedia.org/wiki/Mean_squared_error\n",
    "- RMSE is the square root of the mean of the squared errors: is even more popular than MSE, because RMSE isinterpretable in the \"y\" units."
   ]
  },
  {
   "cell_type": "markdown",
   "metadata": {},
   "source": [
    "#### Performance on Training Data"
   ]
  },
  {
   "cell_type": "code",
   "execution_count": 141,
   "metadata": {
    "collapsed": false
   },
   "outputs": [
    {
     "name": "stdout",
     "output_type": "stream",
     "text": [
      "MAE in training set : 1.1581502948072528\n",
      "MSE in training set : 2.4793551789057875\n",
      "RMSE in training set: 1.5745968305905444\n"
     ]
    }
   ],
   "source": [
    "# predict values using training data\n",
    "lr_predict_train = lr_model.predict(X_train)\n",
    "\n",
    "# import the performance metrics library\n",
    "from sklearn import metrics\n",
    "import numpy as np\n",
    "\n",
    "print(\"MAE in training set : {0}\".format(metrics.mean_absolute_error(y_train, lr_predict_train)))\n",
    "print(\"MSE in training set : {0}\".format(metrics.mean_squared_error(y_train, lr_predict_train)))\n",
    "print(\"RMSE in training set: {0}\".format(np.sqrt(metrics.mean_squared_error(y_train, lr_predict_train))))"
   ]
  },
  {
   "cell_type": "markdown",
   "metadata": {},
   "source": [
    "#### Performance on Test Data "
   ]
  },
  {
   "cell_type": "code",
   "execution_count": 142,
   "metadata": {
    "collapsed": false
   },
   "outputs": [
    {
     "name": "stdout",
     "output_type": "stream",
     "text": [
      "MAE in training set : 1.511669222454908\n",
      "MSE in training set : 3.796797236715219\n",
      "RMSE in training set: 1.9485372043446385\n"
     ]
    }
   ],
   "source": [
    "lr_predict_test = lr_model.predict(X_test)\n",
    "\n",
    "print(\"MAE in training set : {0}\".format(metrics.mean_absolute_error(y_test, lr_predict_test)))\n",
    "print(\"MSE in training set : {0}\".format(metrics.mean_squared_error(y_test, lr_predict_test)))\n",
    "print(\"RMSE in training set: {0}\".format(np.sqrt(metrics.mean_squared_error(y_test, lr_predict_test))))"
   ]
  },
  {
   "cell_type": "markdown",
   "metadata": {},
   "source": [
    "#### Feature selection\n",
    "Does Newspaper Newspaper \"belong\" in our model? In other words, does it improve the quality of our predictions?\n",
    "Let's remove it remove it from the model and check the RMSE!"
   ]
  },
  {
   "cell_type": "code",
   "execution_count": 143,
   "metadata": {
    "collapsed": false
   },
   "outputs": [
    {
     "name": "stdout",
     "output_type": "stream",
     "text": [
      "RMSE in test set: 1.9154756731764258\n"
     ]
    }
   ],
   "source": [
    "# create a list features names except NEWSPAPER\n",
    "feature_col_names = ['TV','Radio']\n",
    "\n",
    "# selected preferred features values\n",
    "X = df[feature_col_names].values\n",
    "\n",
    "# predict values \n",
    "y = df[predict_col_names].values\n",
    "\n",
    "# split into train and test sets\n",
    "X_train, X_test, y_train, y_test = train_test_split(X, y, random_state=42, test_size=split_test_size)\n",
    "\n",
    "# fit the model\n",
    "lr_model_feature_selection = LinearRegression(n_jobs=-1)\n",
    "lr_model_feature_selection.fit(X_train,y_train)\n",
    "\n",
    "# make prediction on testing set\n",
    "lr_predict_test_feature_selection = lr_model_feature_selection.predict(X_test)\n",
    "print(\"RMSE in test set: {0}\".format(np.sqrt(metrics.mean_squared_error(y_test, lr_predict_test_feature_selection))))"
   ]
  },
  {
   "cell_type": "markdown",
   "metadata": {},
   "source": [
    "The RMSE decreased decreased when we removed Newspaper from the model.\n",
    "(Error is something we want to minimize, so a lower number for a lower number for\n",
    "RMSE is better RMSE is better.) Thus, it is unlikely that this feature is useful for\n",
    "predicting Sales, and should be removed from the model"
   ]
  },
  {
   "cell_type": "code",
   "execution_count": null,
   "metadata": {
    "collapsed": true
   },
   "outputs": [],
   "source": []
  }
 ],
 "metadata": {
  "kernelspec": {
   "display_name": "Python 3",
   "language": "python",
   "name": "python3"
  },
  "language_info": {
   "codemirror_mode": {
    "name": "ipython",
    "version": 3
   },
   "file_extension": ".py",
   "mimetype": "text/x-python",
   "name": "python",
   "nbconvert_exporter": "python",
   "pygments_lexer": "ipython3",
   "version": "3.4.2"
  }
 },
 "nbformat": 4,
 "nbformat_minor": 2
}
